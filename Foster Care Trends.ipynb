{
 "cells": [
  {
   "cell_type": "code",
   "execution_count": 1,
   "metadata": {},
   "outputs": [],
   "source": [
    "# Import dependencies\n",
    "import pandas as pd\n",
    "import numpy as np\n",
    "import matplotlib.pyplot as plt\n",
    "from scipy.stats import linregress"
   ]
  },
  {
   "cell_type": "code",
   "execution_count": 2,
   "metadata": {},
   "outputs": [],
   "source": [
    "# Read in data files\n",
    "in_care_df = pd.read_csv(\"Data/in_care.txt\", sep='\\t')\n",
    "adopted_df = pd.read_csv(\"Data/adopted.txt\", sep='\\t')\n",
    "tpr_df = pd.read_csv(\"Data/tpr.txt\", sep='\\t')"
   ]
  },
  {
   "cell_type": "code",
   "execution_count": 3,
   "metadata": {},
   "outputs": [
    {
     "data": {
      "text/html": [
       "<div>\n",
       "<style scoped>\n",
       "    .dataframe tbody tr th:only-of-type {\n",
       "        vertical-align: middle;\n",
       "    }\n",
       "\n",
       "    .dataframe tbody tr th {\n",
       "        vertical-align: top;\n",
       "    }\n",
       "\n",
       "    .dataframe thead th {\n",
       "        text-align: right;\n",
       "    }\n",
       "</style>\n",
       "<table border=\"1\" class=\"dataframe\">\n",
       "  <thead>\n",
       "    <tr style=\"text-align: right;\">\n",
       "      <th></th>\n",
       "      <th>State</th>\n",
       "      <th>FY 2010</th>\n",
       "      <th>FY 2011</th>\n",
       "      <th>FY 2012</th>\n",
       "      <th>FY 2013</th>\n",
       "      <th>FY 2014</th>\n",
       "      <th>FY 2015</th>\n",
       "      <th>FY 2016</th>\n",
       "      <th>FY 2017</th>\n",
       "      <th>FY 2018</th>\n",
       "      <th>FY 2019</th>\n",
       "    </tr>\n",
       "  </thead>\n",
       "  <tbody>\n",
       "    <tr>\n",
       "      <th>0</th>\n",
       "      <td>Alabama</td>\n",
       "      <td>5350.0</td>\n",
       "      <td>5253.0</td>\n",
       "      <td>4561.0</td>\n",
       "      <td>4435.0</td>\n",
       "      <td>4526.0</td>\n",
       "      <td>4745.0</td>\n",
       "      <td>5053.0</td>\n",
       "      <td>5631.0</td>\n",
       "      <td>5930.0</td>\n",
       "      <td>5783.0</td>\n",
       "    </tr>\n",
       "    <tr>\n",
       "      <th>1</th>\n",
       "      <td>Alaska</td>\n",
       "      <td>1791.0</td>\n",
       "      <td>1835.0</td>\n",
       "      <td>1854.0</td>\n",
       "      <td>1982.0</td>\n",
       "      <td>2190.0</td>\n",
       "      <td>2653.0</td>\n",
       "      <td>2824.0</td>\n",
       "      <td>2739.0</td>\n",
       "      <td>2781.0</td>\n",
       "      <td>2879.0</td>\n",
       "    </tr>\n",
       "    <tr>\n",
       "      <th>2</th>\n",
       "      <td>Arizona</td>\n",
       "      <td>9930.0</td>\n",
       "      <td>10883.0</td>\n",
       "      <td>13461.0</td>\n",
       "      <td>14399.0</td>\n",
       "      <td>16246.0</td>\n",
       "      <td>17738.0</td>\n",
       "      <td>17118.0</td>\n",
       "      <td>15031.0</td>\n",
       "      <td>13360.0</td>\n",
       "      <td>13330.0</td>\n",
       "    </tr>\n",
       "    <tr>\n",
       "      <th>3</th>\n",
       "      <td>Arkansas</td>\n",
       "      <td>3756.0</td>\n",
       "      <td>3732.0</td>\n",
       "      <td>3711.0</td>\n",
       "      <td>3797.0</td>\n",
       "      <td>3806.0</td>\n",
       "      <td>4548.0</td>\n",
       "      <td>4880.0</td>\n",
       "      <td>4776.0</td>\n",
       "      <td>4234.0</td>\n",
       "      <td>4127.0</td>\n",
       "    </tr>\n",
       "    <tr>\n",
       "      <th>4</th>\n",
       "      <td>California</td>\n",
       "      <td>56202.0</td>\n",
       "      <td>54754.0</td>\n",
       "      <td>54553.0</td>\n",
       "      <td>55383.0</td>\n",
       "      <td>56771.0</td>\n",
       "      <td>55983.0</td>\n",
       "      <td>54685.0</td>\n",
       "      <td>51869.0</td>\n",
       "      <td>52337.0</td>\n",
       "      <td>51268.0</td>\n",
       "    </tr>\n",
       "  </tbody>\n",
       "</table>\n",
       "</div>"
      ],
      "text/plain": [
       "        State  FY 2010  FY 2011  FY 2012  FY 2013  FY 2014  FY 2015  FY 2016  \\\n",
       "0     Alabama   5350.0   5253.0   4561.0   4435.0   4526.0   4745.0   5053.0   \n",
       "1      Alaska   1791.0   1835.0   1854.0   1982.0   2190.0   2653.0   2824.0   \n",
       "2     Arizona   9930.0  10883.0  13461.0  14399.0  16246.0  17738.0  17118.0   \n",
       "3    Arkansas   3756.0   3732.0   3711.0   3797.0   3806.0   4548.0   4880.0   \n",
       "4  California  56202.0  54754.0  54553.0  55383.0  56771.0  55983.0  54685.0   \n",
       "\n",
       "   FY 2017  FY 2018  FY 2019  \n",
       "0   5631.0   5930.0   5783.0  \n",
       "1   2739.0   2781.0   2879.0  \n",
       "2  15031.0  13360.0  13330.0  \n",
       "3   4776.0   4234.0   4127.0  \n",
       "4  51869.0  52337.0  51268.0  "
      ]
     },
     "execution_count": 3,
     "metadata": {},
     "output_type": "execute_result"
    }
   ],
   "source": [
    "in_care_df.head()"
   ]
  },
  {
   "cell_type": "markdown",
   "metadata": {},
   "source": [
    "## Clean DataFrame"
   ]
  },
  {
   "cell_type": "code",
   "execution_count": 4,
   "metadata": {},
   "outputs": [],
   "source": [
    "# Keep only numerical data\n",
    "years_df = in_care_df.drop([\"State\"], axis=1)"
   ]
  },
  {
   "cell_type": "code",
   "execution_count": 5,
   "metadata": {},
   "outputs": [
    {
     "data": {
      "text/plain": [
       "Index(['FY 2010', 'FY 2011', 'FY 2012', 'FY 2013', 'FY 2014', 'FY 2015',\n",
       "       'FY 2016', 'FY 2017', 'FY 2018', 'FY 2019'],\n",
       "      dtype='object')"
      ]
     },
     "execution_count": 5,
     "metadata": {},
     "output_type": "execute_result"
    }
   ],
   "source": [
    "years_df.columns"
   ]
  },
  {
   "cell_type": "code",
   "execution_count": 6,
   "metadata": {},
   "outputs": [],
   "source": [
    "# Create list of years in dataset\n",
    "years_list = []\n",
    "\n",
    "for column in years_df.columns:\n",
    "    year = column.split(\" \")[1]\n",
    "    years_list.append(int(year))"
   ]
  },
  {
   "cell_type": "code",
   "execution_count": 7,
   "metadata": {},
   "outputs": [
    {
     "data": {
      "text/plain": [
       "(10, 1)"
      ]
     },
     "execution_count": 7,
     "metadata": {},
     "output_type": "execute_result"
    }
   ],
   "source": [
    "# Check shape \n",
    "years = np.array(years_list).reshape(-1,1)\n",
    "years.shape"
   ]
  },
  {
   "cell_type": "code",
   "execution_count": 8,
   "metadata": {},
   "outputs": [],
   "source": [
    "# Store \n",
    "states = in_care_df[\"State\"].values.tolist()"
   ]
  },
  {
   "cell_type": "markdown",
   "metadata": {},
   "source": [
    "## Machine Learning"
   ]
  },
  {
   "cell_type": "code",
   "execution_count": 9,
   "metadata": {},
   "outputs": [],
   "source": [
    "# Import dependencies\n",
    "from sklearn.linear_model import LinearRegression\n",
    "from sklearn.model_selection import train_test_split"
   ]
  },
  {
   "cell_type": "code",
   "execution_count": 10,
   "metadata": {},
   "outputs": [
    {
     "name": "stdout",
     "output_type": "stream",
     "text": [
      "Alabama Score: 0.002620419823441411\n",
      "Prediction for 2025 In-Care: [6112.95049505]\n",
      "----------------------------\n",
      "Alaska Score: 0.8763433482278176\n",
      "Prediction for 2025 In-Care: [3868.26237624]\n",
      "----------------------------\n",
      "Arizona Score: 0.1728866052886493\n",
      "Prediction for 2025 In-Care: [18299.01485149]\n",
      "----------------------------\n",
      "Arkansas Score: 0.3942158942444582\n",
      "Prediction for 2025 In-Care: [5241.82673267]\n",
      "----------------------------\n",
      "California Score: 0.15128192247780614\n",
      "Prediction for 2025 In-Care: [48684.37128713]\n",
      "----------------------------\n",
      "Colorado Score: 0.8856494887496643\n",
      "Prediction for 2025 In-Care: [4404.50990099]\n",
      "----------------------------\n",
      "Connecticut Score: 0.18755574997130398\n",
      "Prediction for 2025 In-Care: [3949.43069307]\n",
      "----------------------------\n",
      "Delaware Score: 0.2538390218400183\n",
      "Prediction for 2025 In-Care: [605.93564356]\n",
      "----------------------------\n",
      "District of Columbia Score: 0.8810061028325079\n",
      "Prediction for 2025 In-Care: [-339.29207921]\n",
      "----------------------------\n",
      "Florida Score: 0.799888654520721\n",
      "Prediction for 2025 In-Care: [30157.04455446]\n",
      "----------------------------\n",
      "Georgia Score: 0.9327988978682571\n",
      "Prediction for 2025 In-Care: [18765.63366337]\n",
      "----------------------------\n",
      "Hawaii Score: 0.9646108482149791\n",
      "Prediction for 2025 In-Care: [2149.08415842]\n",
      "----------------------------\n",
      "Idaho Score: 0.5620672113172676\n",
      "Prediction for 2025 In-Care: [1917.55445545]\n",
      "----------------------------\n",
      "Illinois Score: 0.091928112164127\n",
      "Prediction for 2025 In-Care: [16497.25742574]\n",
      "----------------------------\n",
      "Indiana Score: 0.9071624847788161\n",
      "Prediction for 2025 In-Care: [25235.44059406]\n",
      "----------------------------\n",
      "Iowa Score: -2.0095482743386914\n",
      "Prediction for 2025 In-Care: [5261.81188119]\n",
      "----------------------------\n",
      "Kansas Score: 0.9577842199079116\n",
      "Prediction for 2025 In-Care: [9672.02475248]\n",
      "----------------------------\n",
      "Kentucky Score: 0.7815474652566183\n",
      "Prediction for 2025 In-Care: [10158.25247525]\n",
      "----------------------------\n",
      "Louisiana Score: -637.5425234045706\n",
      "Prediction for 2025 In-Care: [4112.01485149]\n",
      "----------------------------\n",
      "Maine Score: 0.38654019595990796\n",
      "Prediction for 2025 In-Care: [2235.86633663]\n",
      "----------------------------\n",
      "Maryland Score: 0.7818771264595058\n",
      "Prediction for 2025 In-Care: [2004.91584158]\n",
      "----------------------------\n",
      "Massachusetts Score: 0.867803509774334\n",
      "Prediction for 2025 In-Care: [12140.26237624]\n",
      "----------------------------\n",
      "Michigan Score: 0.6934771032802336\n",
      "Prediction for 2025 In-Care: [7522.85643564]\n",
      "----------------------------\n",
      "Minnesota Score: 0.9778982755915878\n",
      "Prediction for 2025 In-Care: [12688.65346535]\n",
      "----------------------------\n",
      "Mississippi Score: 0.7686034246564222\n",
      "Prediction for 2025 In-Care: [6102.74752475]\n",
      "----------------------------\n",
      "Missouri Score: 0.900831609451382\n",
      "Prediction for 2025 In-Care: [16061.99009901]\n",
      "----------------------------\n",
      "Montana Score: 0.9706907532917608\n",
      "Prediction for 2025 In-Care: [5587.9950495]\n",
      "----------------------------\n",
      "Nebraska Score: 0.8074103720153513\n",
      "Prediction for 2025 In-Care: [2307.92079208]\n",
      "----------------------------\n",
      "Nevada Score: -1.6689056099128186\n",
      "Prediction for 2025 In-Care: [4073.74752475]\n",
      "----------------------------\n",
      "New Hampshire Score: 0.9694774568136736\n",
      "Prediction for 2025 In-Care: [1788.63861386]\n",
      "----------------------------\n",
      "New Jersey Score: -0.09289349773640775\n",
      "Prediction for 2025 In-Care: [3763.53960396]\n",
      "----------------------------\n",
      "New Mexico Score: 0.8335706216425756\n",
      "Prediction for 2025 In-Care: [3113.5]\n",
      "----------------------------\n",
      "New York Score: 0.9598157682069569\n",
      "Prediction for 2025 In-Care: [7580.40594059]\n",
      "----------------------------\n",
      "North Carolina Score: 0.8657636893681495\n",
      "Prediction for 2025 In-Care: [13257.95544554]\n",
      "----------------------------\n",
      "North Dakota Score: 0.9310338506983388\n",
      "Prediction for 2025 In-Care: [1882.68811881]\n",
      "----------------------------\n",
      "Ohio Score: 0.9009972296331028\n",
      "Prediction for 2025 In-Care: [18944.86633663]\n",
      "----------------------------\n",
      "Oklahoma Score: -0.003461284648043961\n",
      "Prediction for 2025 In-Care: [9681.25247525]\n",
      "----------------------------\n",
      "Oregon Score: 0.5498991422176518\n",
      "Prediction for 2025 In-Care: [5898.72772277]\n",
      "----------------------------\n",
      "Pennsylvania Score: -2.6798403393490506\n",
      "Prediction for 2025 In-Care: [13128.43069307]\n",
      "----------------------------\n",
      "Rhode Island Score: 0.5420668190892064\n",
      "Prediction for 2025 In-Care: [1995.55940594]\n",
      "----------------------------\n",
      "South Carolina Score: 0.29063184955810206\n",
      "Prediction for 2025 In-Care: [4526.24257426]\n",
      "----------------------------\n",
      "South Dakota Score: 0.05878516594720807\n",
      "Prediction for 2025 In-Care: [1777.86138614]\n",
      "----------------------------\n",
      "Tennessee Score: 0.9037679425474943\n",
      "Prediction for 2025 In-Care: [10962.07425743]\n",
      "----------------------------\n",
      "Texas Score: 0.4804973457370559\n",
      "Prediction for 2025 In-Care: [33924.59405941]\n",
      "----------------------------\n",
      "Utah Score: -8.857412957353532\n",
      "Prediction for 2025 In-Care: [2564.78712871]\n",
      "----------------------------\n",
      "Vermont Score: 0.420124336558116\n",
      "Prediction for 2025 In-Care: [1608.69306931]\n",
      "----------------------------\n",
      "Virginia Score: -0.8992516648540501\n",
      "Prediction for 2025 In-Care: [4657.74257426]\n",
      "----------------------------\n",
      "Washington Score: 0.8173608394912609\n",
      "Prediction for 2025 In-Care: [12179.73762376]\n",
      "----------------------------\n",
      "West Virginia Score: 0.8165998239337822\n",
      "Prediction for 2025 In-Care: [9415.32178218]\n",
      "----------------------------\n",
      "Wisconsin Score: 0.935689089397034\n",
      "Prediction for 2025 In-Care: [8755.95544554]\n",
      "----------------------------\n",
      "Wyoming Score: 0.4079981292537055\n",
      "Prediction for 2025 In-Care: [1100.74257426]\n",
      "----------------------------\n"
     ]
    }
   ],
   "source": [
    "# Train and score model, then demonstrate predictive ability for all states\n",
    "\n",
    "midwest = ['Illinois', 'Indiana', 'Iowa', 'Kansas', 'Michigan', 'Minnesota', \n",
    "           'Missouri', 'Nebraska', 'North Dakota', 'Ohio', 'South Dakota', 'Wisconsin']\n",
    "plot_indexes = []\n",
    "\n",
    "for index,row in years_df.iterrows():\n",
    "    values = row.values.tolist()\n",
    "    X = years\n",
    "    y = values\n",
    "    \n",
    "    model = LinearRegression()\n",
    "\n",
    "    X_train, X_test, y_train, y_test = train_test_split(X, y, random_state=42)\n",
    "    model.fit(X_train, y_train)\n",
    "    score = model.score(X_test, y_test)\n",
    "    state = states[index]\n",
    "    predicted = model.predict([[2025]])\n",
    "    \n",
    "    print(f\"{state} Score: {score}\")\n",
    "    print(f\"Prediction for 2025 In-Care: {predicted}\")\n",
    "    print(\"----------------------------\")\n",
    "    \n",
    "    if (state in midwest) and score > .925:\n",
    "        plot_indexes.append(index)"
   ]
  },
  {
   "cell_type": "code",
   "execution_count": 11,
   "metadata": {},
   "outputs": [],
   "source": [
    "# Create DataFrame for plotting predictions of Midwestern states with model scores greater than 80%\n",
    "plots_df = years_df.iloc[plot_indexes,:]"
   ]
  },
  {
   "cell_type": "code",
   "execution_count": 12,
   "metadata": {},
   "outputs": [],
   "source": [
    "plots_df_final = plots_df.copy()"
   ]
  },
  {
   "cell_type": "code",
   "execution_count": 13,
   "metadata": {},
   "outputs": [],
   "source": [
    "# Use model to \n",
    "\n",
    "predicted_years = [2020,2022,2024,2026,2028,2030]\n",
    "\n",
    "for year in predicted_years:\n",
    "    predictions = []\n",
    "    for index,row in plots_df.iterrows():\n",
    "        values = row.values.tolist()\n",
    "        X = years\n",
    "        y = values\n",
    "        \n",
    "        model = LinearRegression()\n",
    "        X_train, X_test, y_train, y_test = train_test_split(X, y, random_state=42)\n",
    "        model.fit(X_train, y_train)\n",
    "        \n",
    "        prediction = model.predict([[year]])\n",
    "        predictions.append(round(prediction[0],2))\n",
    "\n",
    "    plots_df_final[f\"FY {year}\"] = predictions"
   ]
  },
  {
   "cell_type": "code",
   "execution_count": 14,
   "metadata": {},
   "outputs": [
    {
     "data": {
      "text/html": [
       "<div>\n",
       "<style scoped>\n",
       "    .dataframe tbody tr th:only-of-type {\n",
       "        vertical-align: middle;\n",
       "    }\n",
       "\n",
       "    .dataframe tbody tr th {\n",
       "        vertical-align: top;\n",
       "    }\n",
       "\n",
       "    .dataframe thead th {\n",
       "        text-align: right;\n",
       "    }\n",
       "</style>\n",
       "<table border=\"1\" class=\"dataframe\">\n",
       "  <thead>\n",
       "    <tr style=\"text-align: right;\">\n",
       "      <th></th>\n",
       "      <th>FY 2010</th>\n",
       "      <th>FY 2011</th>\n",
       "      <th>FY 2012</th>\n",
       "      <th>FY 2013</th>\n",
       "      <th>FY 2014</th>\n",
       "      <th>FY 2015</th>\n",
       "      <th>FY 2016</th>\n",
       "      <th>FY 2017</th>\n",
       "      <th>FY 2018</th>\n",
       "      <th>FY 2019</th>\n",
       "      <th>FY 2020</th>\n",
       "      <th>FY 2022</th>\n",
       "      <th>FY 2024</th>\n",
       "      <th>FY 2026</th>\n",
       "      <th>FY 2028</th>\n",
       "      <th>FY 2030</th>\n",
       "    </tr>\n",
       "  </thead>\n",
       "  <tbody>\n",
       "    <tr>\n",
       "      <th>16</th>\n",
       "      <td>5979.0</td>\n",
       "      <td>5852.0</td>\n",
       "      <td>6002.0</td>\n",
       "      <td>6441.0</td>\n",
       "      <td>6762.0</td>\n",
       "      <td>7223.0</td>\n",
       "      <td>7302.0</td>\n",
       "      <td>7753.0</td>\n",
       "      <td>8068.0</td>\n",
       "      <td>8066.0</td>\n",
       "      <td>8361.27</td>\n",
       "      <td>8885.57</td>\n",
       "      <td>9409.87</td>\n",
       "      <td>9934.18</td>\n",
       "      <td>10458.48</td>\n",
       "      <td>10982.78</td>\n",
       "    </tr>\n",
       "    <tr>\n",
       "      <th>23</th>\n",
       "      <td>5063.0</td>\n",
       "      <td>5085.0</td>\n",
       "      <td>5330.0</td>\n",
       "      <td>5641.0</td>\n",
       "      <td>6324.0</td>\n",
       "      <td>7610.0</td>\n",
       "      <td>8793.0</td>\n",
       "      <td>9651.0</td>\n",
       "      <td>9271.0</td>\n",
       "      <td>8400.0</td>\n",
       "      <td>10011.72</td>\n",
       "      <td>11082.50</td>\n",
       "      <td>12153.27</td>\n",
       "      <td>13224.04</td>\n",
       "      <td>14294.81</td>\n",
       "      <td>15365.58</td>\n",
       "    </tr>\n",
       "    <tr>\n",
       "      <th>34</th>\n",
       "      <td>1078.0</td>\n",
       "      <td>1066.0</td>\n",
       "      <td>1109.0</td>\n",
       "      <td>1227.0</td>\n",
       "      <td>1365.0</td>\n",
       "      <td>1359.0</td>\n",
       "      <td>1407.0</td>\n",
       "      <td>1495.0</td>\n",
       "      <td>1576.0</td>\n",
       "      <td>1502.0</td>\n",
       "      <td>1612.70</td>\n",
       "      <td>1720.70</td>\n",
       "      <td>1828.69</td>\n",
       "      <td>1936.69</td>\n",
       "      <td>2044.68</td>\n",
       "      <td>2152.68</td>\n",
       "    </tr>\n",
       "    <tr>\n",
       "      <th>49</th>\n",
       "      <td>6575.0</td>\n",
       "      <td>6547.0</td>\n",
       "      <td>6384.0</td>\n",
       "      <td>6539.0</td>\n",
       "      <td>6918.0</td>\n",
       "      <td>7091.0</td>\n",
       "      <td>7382.0</td>\n",
       "      <td>7721.0</td>\n",
       "      <td>7819.0</td>\n",
       "      <td>7642.0</td>\n",
       "      <td>7936.31</td>\n",
       "      <td>8264.17</td>\n",
       "      <td>8592.03</td>\n",
       "      <td>8919.88</td>\n",
       "      <td>9247.74</td>\n",
       "      <td>9575.60</td>\n",
       "    </tr>\n",
       "  </tbody>\n",
       "</table>\n",
       "</div>"
      ],
      "text/plain": [
       "    FY 2010  FY 2011  FY 2012  FY 2013  FY 2014  FY 2015  FY 2016  FY 2017  \\\n",
       "16   5979.0   5852.0   6002.0   6441.0   6762.0   7223.0   7302.0   7753.0   \n",
       "23   5063.0   5085.0   5330.0   5641.0   6324.0   7610.0   8793.0   9651.0   \n",
       "34   1078.0   1066.0   1109.0   1227.0   1365.0   1359.0   1407.0   1495.0   \n",
       "49   6575.0   6547.0   6384.0   6539.0   6918.0   7091.0   7382.0   7721.0   \n",
       "\n",
       "    FY 2018  FY 2019   FY 2020   FY 2022   FY 2024   FY 2026   FY 2028  \\\n",
       "16   8068.0   8066.0   8361.27   8885.57   9409.87   9934.18  10458.48   \n",
       "23   9271.0   8400.0  10011.72  11082.50  12153.27  13224.04  14294.81   \n",
       "34   1576.0   1502.0   1612.70   1720.70   1828.69   1936.69   2044.68   \n",
       "49   7819.0   7642.0   7936.31   8264.17   8592.03   8919.88   9247.74   \n",
       "\n",
       "     FY 2030  \n",
       "16  10982.78  \n",
       "23  15365.58  \n",
       "34   2152.68  \n",
       "49   9575.60  "
      ]
     },
     "execution_count": 14,
     "metadata": {},
     "output_type": "execute_result"
    }
   ],
   "source": [
    "plots_df_final"
   ]
  },
  {
   "cell_type": "markdown",
   "metadata": {},
   "source": [
    "## Prediction"
   ]
  },
  {
   "cell_type": "code",
   "execution_count": 15,
   "metadata": {},
   "outputs": [
    {
     "data": {
      "image/png": "[encoded data removed]",
      "text/plain": [
       "<Figure size 432x288 with 1 Axes>"
      ]
     },
     "metadata": {
      "needs_background": "light"
     },
     "output_type": "display_data"
    },
    {
     "data": {
      "image/png": "[encoded data removed]",
      "text/plain": [
       "<Figure size 432x288 with 1 Axes>"
      ]
     },
     "metadata": {
      "needs_background": "light"
     },
     "output_type": "display_data"
    },
    {
     "data": {
      "image/png": "[encoded data removed]",
      "text/plain": [
       "<Figure size 432x288 with 1 Axes>"
      ]
     },
     "metadata": {
      "needs_background": "light"
     },
     "output_type": "display_data"
    },
    {
     "data": {
      "image/png": "[encoded data removed]",
      "text/plain": [
       "<Figure size 432x288 with 1 Axes>"
      ]
     },
     "metadata": {
      "needs_background": "light"
     },
     "output_type": "display_data"
    }
   ],
   "source": [
    "for index,row in plots_df_final.iterrows():\n",
    "    values = row.values.tolist()\n",
    "    X = years_list + predicted_years\n",
    "    y = values\n",
    "\n",
    "    plt.plot(X, y)\n",
    "    plt.xlabel(\"Year\")\n",
    "    plt.ylabel(f\"In Care\")\n",
    "    plt.title(f\"Foster Care Trends - {states[index]}\")\n",
    "    \n",
    "    plt.savefig(f\"Images/{states[index]}_InCare.png\")\n",
    "    plt.show()"
   ]
  },
  {
   "cell_type": "code",
   "execution_count": null,
   "metadata": {},
   "outputs": [],
   "source": []
  }
 ],
 "metadata": {
  "kernelspec": {
   "display_name": "Python 3",
   "language": "python",
   "name": "python3"
  },
  "language_info": {
   "codemirror_mode": {
    "name": "ipython",
    "version": 3
   },
   "file_extension": ".py",
   "mimetype": "text/x-python",
   "name": "python",
   "nbconvert_exporter": "python",
   "pygments_lexer": "ipython3",
   "version": "3.7.6"
  }
 },
 "nbformat": 4,
 "nbformat_minor": 4
}
