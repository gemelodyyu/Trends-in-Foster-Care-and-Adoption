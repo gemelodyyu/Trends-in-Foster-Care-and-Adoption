{
 "cells": [
  {
   "cell_type": "code",
   "execution_count": 1,
   "metadata": {},
   "outputs": [],
   "source": [
    "# Import dependencies\n",
    "import pandas as pd\n",
    "import numpy as np\n",
    "import matplotlib.pyplot as plt\n",
    "from scipy.stats import linregress"
   ]
  },
  {
   "cell_type": "code",
   "execution_count": 2,
   "metadata": {},
   "outputs": [],
   "source": [
    "# Read in data files\n",
    "in_care_df = pd.read_csv(\"Data/in_care.txt\", sep='\\t')\n",
    "adopted_df = pd.read_csv(\"Data/adopted.txt\", sep='\\t')\n",
    "tpr_df = pd.read_csv(\"Data/tpr.txt\", sep='\\t')"
   ]
  },
  {
   "cell_type": "code",
   "execution_count": 3,
   "metadata": {},
   "outputs": [
    {
     "data": {
      "text/html": [
       "<div>\n",
       "<style scoped>\n",
       "    .dataframe tbody tr th:only-of-type {\n",
       "        vertical-align: middle;\n",
       "    }\n",
       "\n",
       "    .dataframe tbody tr th {\n",
       "        vertical-align: top;\n",
       "    }\n",
       "\n",
       "    .dataframe thead th {\n",
       "        text-align: right;\n",
       "    }\n",
       "</style>\n",
       "<table border=\"1\" class=\"dataframe\">\n",
       "  <thead>\n",
       "    <tr style=\"text-align: right;\">\n",
       "      <th></th>\n",
       "      <th>Status</th>\n",
       "      <th>State</th>\n",
       "      <th>FY 2010</th>\n",
       "      <th>FY 2011</th>\n",
       "      <th>FY 2012</th>\n",
       "      <th>FY 2013</th>\n",
       "      <th>FY 2014</th>\n",
       "      <th>FY 2015</th>\n",
       "      <th>FY 2016</th>\n",
       "      <th>FY 2017</th>\n",
       "      <th>FY 2018</th>\n",
       "      <th>FY 2019</th>\n",
       "    </tr>\n",
       "  </thead>\n",
       "  <tbody>\n",
       "    <tr>\n",
       "      <th>0</th>\n",
       "      <td>Adopted</td>\n",
       "      <td>Alabama</td>\n",
       "      <td>606.0</td>\n",
       "      <td>447.0</td>\n",
       "      <td>587.0</td>\n",
       "      <td>532.0</td>\n",
       "      <td>544.0</td>\n",
       "      <td>512.0</td>\n",
       "      <td>503.0</td>\n",
       "      <td>504.0</td>\n",
       "      <td>712.0</td>\n",
       "      <td>738.0</td>\n",
       "    </tr>\n",
       "    <tr>\n",
       "      <th>1</th>\n",
       "      <td>Adopted</td>\n",
       "      <td>Alaska</td>\n",
       "      <td>336.0</td>\n",
       "      <td>293.0</td>\n",
       "      <td>309.0</td>\n",
       "      <td>328.0</td>\n",
       "      <td>367.0</td>\n",
       "      <td>357.0</td>\n",
       "      <td>312.0</td>\n",
       "      <td>366.0</td>\n",
       "      <td>353.0</td>\n",
       "      <td>396.0</td>\n",
       "    </tr>\n",
       "    <tr>\n",
       "      <th>2</th>\n",
       "      <td>Adopted</td>\n",
       "      <td>Arizona</td>\n",
       "      <td>2045.0</td>\n",
       "      <td>2275.0</td>\n",
       "      <td>2275.0</td>\n",
       "      <td>2522.0</td>\n",
       "      <td>3090.0</td>\n",
       "      <td>3236.0</td>\n",
       "      <td>3654.0</td>\n",
       "      <td>4298.0</td>\n",
       "      <td>3926.0</td>\n",
       "      <td>3373.0</td>\n",
       "    </tr>\n",
       "    <tr>\n",
       "      <th>3</th>\n",
       "      <td>Adopted</td>\n",
       "      <td>Arkansas</td>\n",
       "      <td>597.0</td>\n",
       "      <td>591.0</td>\n",
       "      <td>703.0</td>\n",
       "      <td>691.0</td>\n",
       "      <td>743.0</td>\n",
       "      <td>740.0</td>\n",
       "      <td>758.0</td>\n",
       "      <td>971.0</td>\n",
       "      <td>1001.0</td>\n",
       "      <td>984.0</td>\n",
       "    </tr>\n",
       "    <tr>\n",
       "      <th>4</th>\n",
       "      <td>Adopted</td>\n",
       "      <td>California</td>\n",
       "      <td>6459.0</td>\n",
       "      <td>5710.0</td>\n",
       "      <td>5938.0</td>\n",
       "      <td>5541.0</td>\n",
       "      <td>5471.0</td>\n",
       "      <td>6079.0</td>\n",
       "      <td>6542.0</td>\n",
       "      <td>6524.0</td>\n",
       "      <td>6966.0</td>\n",
       "      <td>6981.0</td>\n",
       "    </tr>\n",
       "  </tbody>\n",
       "</table>\n",
       "</div>"
      ],
      "text/plain": [
       "    Status       State  FY 2010  FY 2011  FY 2012  FY 2013  FY 2014  FY 2015  \\\n",
       "0  Adopted     Alabama    606.0    447.0    587.0    532.0    544.0    512.0   \n",
       "1  Adopted      Alaska    336.0    293.0    309.0    328.0    367.0    357.0   \n",
       "2  Adopted     Arizona   2045.0   2275.0   2275.0   2522.0   3090.0   3236.0   \n",
       "3  Adopted    Arkansas    597.0    591.0    703.0    691.0    743.0    740.0   \n",
       "4  Adopted  California   6459.0   5710.0   5938.0   5541.0   5471.0   6079.0   \n",
       "\n",
       "   FY 2016  FY 2017  FY 2018  FY 2019  \n",
       "0    503.0    504.0    712.0    738.0  \n",
       "1    312.0    366.0    353.0    396.0  \n",
       "2   3654.0   4298.0   3926.0   3373.0  \n",
       "3    758.0    971.0   1001.0    984.0  \n",
       "4   6542.0   6524.0   6966.0   6981.0  "
      ]
     },
     "execution_count": 3,
     "metadata": {},
     "output_type": "execute_result"
    }
   ],
   "source": [
    "adopted_df.head()"
   ]
  },
  {
   "cell_type": "markdown",
   "metadata": {},
   "source": [
    "## Clean DataFrame"
   ]
  },
  {
   "cell_type": "code",
   "execution_count": 4,
   "metadata": {},
   "outputs": [],
   "source": [
    "# Keep only numerical data\n",
    "years_df = adopted_df.drop([\"Status\",\"State\"], axis=1)"
   ]
  },
  {
   "cell_type": "code",
   "execution_count": 5,
   "metadata": {},
   "outputs": [
    {
     "data": {
      "text/plain": [
       "Index(['FY 2010', 'FY 2011', 'FY 2012', 'FY 2013', 'FY 2014', 'FY 2015',\n",
       "       'FY 2016', 'FY 2017', 'FY 2018', 'FY 2019'],\n",
       "      dtype='object')"
      ]
     },
     "execution_count": 5,
     "metadata": {},
     "output_type": "execute_result"
    }
   ],
   "source": [
    "years_df.columns"
   ]
  },
  {
   "cell_type": "code",
   "execution_count": 6,
   "metadata": {},
   "outputs": [],
   "source": [
    "# Create list of years in dataset\n",
    "years_list = []\n",
    "\n",
    "for column in years_df.columns:\n",
    "    year = column.split(\" \")[1]\n",
    "    years_list.append(int(year))"
   ]
  },
  {
   "cell_type": "code",
   "execution_count": 7,
   "metadata": {},
   "outputs": [
    {
     "data": {
      "text/plain": [
       "(10, 1)"
      ]
     },
     "execution_count": 7,
     "metadata": {},
     "output_type": "execute_result"
    }
   ],
   "source": [
    "# Check shape \n",
    "years = np.array(years_list).reshape(-1,1)\n",
    "years.shape"
   ]
  },
  {
   "cell_type": "code",
   "execution_count": 8,
   "metadata": {},
   "outputs": [],
   "source": [
    "# Store \n",
    "states = adopted_df[\"State\"].values.tolist()"
   ]
  },
  {
   "cell_type": "markdown",
   "metadata": {},
   "source": [
    "## Machine Learning"
   ]
  },
  {
   "cell_type": "code",
   "execution_count": 9,
   "metadata": {},
   "outputs": [],
   "source": [
    "# Import dependencies\n",
    "from sklearn.linear_model import LinearRegression\n",
    "from sklearn.model_selection import train_test_split"
   ]
  },
  {
   "cell_type": "code",
   "execution_count": 10,
   "metadata": {},
   "outputs": [
    {
     "name": "stdout",
     "output_type": "stream",
     "text": [
      "Alabama Score: 0.24401425707628244\n",
      "Prediction for 2025 Adoption: [638.95049505]\n",
      "----------------------------\n",
      "Alaska Score: 0.5454298228276899\n",
      "Prediction for 2025 Adoption: [413.99009901]\n",
      "----------------------------\n",
      "Arizona Score: 0.9883077471149223\n",
      "Prediction for 2025 Adoption: [5363.84158416]\n",
      "----------------------------\n",
      "Arkansas Score: 0.8867998394495706\n",
      "Prediction for 2025 Adoption: [1241.48019802]\n",
      "----------------------------\n",
      "California Score: 0.7299439848680286\n",
      "Prediction for 2025 Adoption: [7249.12871287]\n",
      "----------------------------\n",
      "Colorado Score: -0.022866979471212412\n",
      "Prediction for 2025 Adoption: [870.42574257]\n",
      "----------------------------\n",
      "Connecticut Score: 0.24054125356937184\n",
      "Prediction for 2025 Adoption: [514.27722772]\n",
      "----------------------------\n",
      "Delaware Score: -0.06627317005160993\n",
      "Prediction for 2025 Adoption: [155.22277228]\n",
      "----------------------------\n",
      "District of Columbia Score: -7.856689907851976\n",
      "Prediction for 2025 Adoption: [72.47524752]\n",
      "----------------------------\n",
      "Florida Score: 0.7882063226861733\n",
      "Prediction for 2025 Adoption: [5054.50990099]\n",
      "----------------------------\n",
      "Georgia Score: 0.35429505842075204\n",
      "Prediction for 2025 Adoption: [1836.76732673]\n",
      "----------------------------\n",
      "Hawaii Score: -5.330785634829541\n",
      "Prediction for 2025 Adoption: [138.73762376]\n",
      "----------------------------\n",
      "Idaho Score: -0.7286715503947578\n",
      "Prediction for 2025 Adoption: [257.49009901]\n",
      "----------------------------\n",
      "Illinois Score: 0.6253990042910071\n",
      "Prediction for 2025 Adoption: [2056.17326733]\n",
      "----------------------------\n",
      "Indiana Score: 0.004306947967421815\n",
      "Prediction for 2025 Adoption: [2755.70792079]\n",
      "----------------------------\n",
      "Iowa Score: 0.9470292542498425\n",
      "Prediction for 2025 Adoption: [1349.06435644]\n",
      "----------------------------\n",
      "Kansas Score: -0.21912487288204163\n",
      "Prediction for 2025 Adoption: [1261.27227723]\n",
      "----------------------------\n",
      "Kentucky Score: 0.48243879485955127\n",
      "Prediction for 2025 Adoption: [1731.97524752]\n",
      "----------------------------\n",
      "Louisiana Score: 0.6687483591730741\n",
      "Prediction for 2025 Adoption: [987.5990099]\n",
      "----------------------------\n",
      "Maine Score: 0.7184516407137358\n",
      "Prediction for 2025 Adoption: [461.17326733]\n",
      "----------------------------\n",
      "Maryland Score: 0.6023495898731797\n",
      "Prediction for 2025 Adoption: [66.5049505]\n",
      "----------------------------\n",
      "Massachusetts Score: 0.11340131641527317\n",
      "Prediction for 2025 Adoption: [900.43069307]\n",
      "----------------------------\n",
      "Michigan Score: 0.23170659590375808\n",
      "Prediction for 2025 Adoption: [1572.6039604]\n",
      "----------------------------\n",
      "Minnesota Score: 0.814765397342903\n",
      "Prediction for 2025 Adoption: [1684.21782178]\n",
      "----------------------------\n",
      "Mississippi Score: -2.30301493983731\n",
      "Prediction for 2025 Adoption: [713.27722772]\n",
      "----------------------------\n",
      "Missouri Score: 0.854134607608691\n",
      "Prediction for 2025 Adoption: [2198.98019802]\n",
      "----------------------------\n",
      "Montana Score: 0.4098158216577252\n",
      "Prediction for 2025 Adoption: [552.4950495]\n",
      "----------------------------\n",
      "Nebraska Score: 0.7760086031831485\n",
      "Prediction for 2025 Adoption: [634.16831683]\n",
      "----------------------------\n",
      "Nevada Score: -8.126379766475331\n",
      "Prediction for 2025 Adoption: [881.71782178]\n",
      "----------------------------\n",
      "New Hampshire Score: 0.21996383797575159\n",
      "Prediction for 2025 Adoption: [226.30693069]\n",
      "----------------------------\n",
      "New Jersey Score: -5.200675704919993\n",
      "Prediction for 2025 Adoption: [1123.02475248]\n",
      "----------------------------\n",
      "New Mexico Score: 0.28461709678399394\n",
      "Prediction for 2025 Adoption: [250.61386139]\n",
      "----------------------------\n",
      "New York Score: 0.9781528105236177\n",
      "Prediction for 2025 Adoption: [1272.88613861]\n",
      "----------------------------\n",
      "North Carolina Score: -0.028792896244676847\n",
      "Prediction for 2025 Adoption: [1549.66831683]\n",
      "----------------------------\n",
      "North Dakota Score: 0.8216129601895313\n",
      "Prediction for 2025 Adoption: [199.5049505]\n",
      "----------------------------\n",
      "Ohio Score: 0.044303049478592545\n",
      "Prediction for 2025 Adoption: [1804.39108911]\n",
      "----------------------------\n",
      "Oklahoma Score: 0.8487855344258701\n",
      "Prediction for 2025 Adoption: [3092.76237624]\n",
      "----------------------------\n",
      "Oregon Score: -0.24185230184560583\n",
      "Prediction for 2025 Adoption: [776.81188119]\n",
      "----------------------------\n",
      "Pennsylvania Score: 0.3843915892788292\n",
      "Prediction for 2025 Adoption: [2638.82178218]\n",
      "----------------------------\n",
      "Rhode Island Score: 0.45468875105952283\n",
      "Prediction for 2025 Adoption: [267.08910891]\n",
      "----------------------------\n",
      "South Carolina Score: 0.1615597199560932\n",
      "Prediction for 2025 Adoption: [384.86633663]\n",
      "----------------------------\n",
      "South Dakota Score: -0.3110199235568596\n",
      "Prediction for 2025 Adoption: [227.57425743]\n",
      "----------------------------\n",
      "Tennessee Score: 0.616092048070392\n",
      "Prediction for 2025 Adoption: [1485.82178218]\n",
      "----------------------------\n",
      "Texas Score: 0.9113687027217\n",
      "Prediction for 2025 Adoption: [6760.40594059]\n",
      "----------------------------\n",
      "Utah Score: -0.22065873670023683\n",
      "Prediction for 2025 Adoption: [722.62871287]\n",
      "----------------------------\n",
      "Vermont Score: 0.8548741058721355\n",
      "Prediction for 2025 Adoption: [353.80693069]\n",
      "----------------------------\n",
      "Virginia Score: 0.031166737835345737\n",
      "Prediction for 2025 Adoption: [779.75742574]\n",
      "----------------------------\n",
      "Washington Score: -0.2884868494112156\n",
      "Prediction for 2025 Adoption: [1370.11386139]\n",
      "----------------------------\n",
      "West Virginia Score: 0.889770822412502\n",
      "Prediction for 2025 Adoption: [2020.25742574]\n",
      "----------------------------\n",
      "Wisconsin Score: -0.9565497525628148\n",
      "Prediction for 2025 Adoption: [627.71287129]\n",
      "----------------------------\n",
      "Wyoming Score: -429.1333692775693\n",
      "Prediction for 2025 Adoption: [126.31683168]\n",
      "----------------------------\n"
     ]
    }
   ],
   "source": [
    "# Train and score model, then demonstrate predictive ability for all states\n",
    "\n",
    "midwest = ['Illinois', 'Indiana', 'Iowa', 'Kansas', 'Michigan', 'Minnesota', \n",
    "           'Missouri', 'Nebraska', 'North Dakota', 'Ohio', 'South Dakota', 'Wisconsin']\n",
    "plot_indexes = []\n",
    "\n",
    "for index,row in years_df.iterrows():\n",
    "    values = row.values.tolist()\n",
    "    X = years\n",
    "    y = values\n",
    "    \n",
    "    model = LinearRegression()\n",
    "\n",
    "    X_train, X_test, y_train, y_test = train_test_split(X, y, random_state=42)\n",
    "    model.fit(X_train, y_train)\n",
    "    score = model.score(X_test, y_test)\n",
    "    state = states[index]\n",
    "    predicted = model.predict([[2025]])\n",
    "    \n",
    "    print(f\"{state} Score: {score}\")\n",
    "    print(f\"Prediction for 2025 Adoption: {predicted}\")\n",
    "    print(\"----------------------------\")\n",
    "    \n",
    "    if (state in midwest) and score > .8:\n",
    "        plot_indexes.append(index)"
   ]
  },
  {
   "cell_type": "code",
   "execution_count": 11,
   "metadata": {},
   "outputs": [],
   "source": [
    "# Create DataFrame for plotting predictions of Midwestern states with model scores greater than 80%\n",
    "plots_df = years_df.iloc[plot_indexes,:]"
   ]
  },
  {
   "cell_type": "code",
   "execution_count": 12,
   "metadata": {},
   "outputs": [],
   "source": [
    "plots_df_final = plots_df.copy()"
   ]
  },
  {
   "cell_type": "code",
   "execution_count": 13,
   "metadata": {},
   "outputs": [],
   "source": [
    "# Use model to \n",
    "\n",
    "predicted_years = [2020,2022,2024,2026,2028,2030]\n",
    "\n",
    "for year in predicted_years:\n",
    "    predictions = []\n",
    "    for index,row in plots_df.iterrows():\n",
    "        values = row.values.tolist()\n",
    "        X = years\n",
    "        y = values\n",
    "        \n",
    "        model = LinearRegression()\n",
    "        X_train, X_test, y_train, y_test = train_test_split(X, y, random_state=42)\n",
    "        model.fit(X_train, y_train)\n",
    "        \n",
    "        prediction = model.predict([[year]])\n",
    "        predictions.append(prediction[0])\n",
    "\n",
    "    plots_df_final[f\"FY {year}\"] = predictions"
   ]
  },
  {
   "cell_type": "code",
   "execution_count": 14,
   "metadata": {},
   "outputs": [
    {
     "data": {
      "text/html": [
       "<div>\n",
       "<style scoped>\n",
       "    .dataframe tbody tr th:only-of-type {\n",
       "        vertical-align: middle;\n",
       "    }\n",
       "\n",
       "    .dataframe tbody tr th {\n",
       "        vertical-align: top;\n",
       "    }\n",
       "\n",
       "    .dataframe thead th {\n",
       "        text-align: right;\n",
       "    }\n",
       "</style>\n",
       "<table border=\"1\" class=\"dataframe\">\n",
       "  <thead>\n",
       "    <tr style=\"text-align: right;\">\n",
       "      <th></th>\n",
       "      <th>FY 2010</th>\n",
       "      <th>FY 2011</th>\n",
       "      <th>FY 2012</th>\n",
       "      <th>FY 2013</th>\n",
       "      <th>FY 2014</th>\n",
       "      <th>FY 2015</th>\n",
       "      <th>FY 2016</th>\n",
       "      <th>FY 2017</th>\n",
       "      <th>FY 2018</th>\n",
       "      <th>FY 2019</th>\n",
       "      <th>FY 2020</th>\n",
       "      <th>FY 2022</th>\n",
       "      <th>FY 2024</th>\n",
       "      <th>FY 2026</th>\n",
       "      <th>FY 2028</th>\n",
       "      <th>FY 2030</th>\n",
       "    </tr>\n",
       "  </thead>\n",
       "  <tbody>\n",
       "    <tr>\n",
       "      <th>15</th>\n",
       "      <td>801.0</td>\n",
       "      <td>864.0</td>\n",
       "      <td>1032.0</td>\n",
       "      <td>917.0</td>\n",
       "      <td>878.0</td>\n",
       "      <td>1017.0</td>\n",
       "      <td>992.0</td>\n",
       "      <td>1006.0</td>\n",
       "      <td>1074.0</td>\n",
       "      <td>1228.0</td>\n",
       "      <td>1174.101485</td>\n",
       "      <td>1244.086634</td>\n",
       "      <td>1314.071782</td>\n",
       "      <td>1384.056931</td>\n",
       "      <td>1454.042079</td>\n",
       "      <td>1524.027228</td>\n",
       "    </tr>\n",
       "    <tr>\n",
       "      <th>23</th>\n",
       "      <td>627.0</td>\n",
       "      <td>572.0</td>\n",
       "      <td>520.0</td>\n",
       "      <td>583.0</td>\n",
       "      <td>642.0</td>\n",
       "      <td>735.0</td>\n",
       "      <td>899.0</td>\n",
       "      <td>946.0</td>\n",
       "      <td>1284.0</td>\n",
       "      <td>1347.0</td>\n",
       "      <td>1263.574257</td>\n",
       "      <td>1431.831683</td>\n",
       "      <td>1600.089109</td>\n",
       "      <td>1768.346535</td>\n",
       "      <td>1936.603960</td>\n",
       "      <td>2104.861386</td>\n",
       "    </tr>\n",
       "    <tr>\n",
       "      <th>25</th>\n",
       "      <td>1170.0</td>\n",
       "      <td>1212.0</td>\n",
       "      <td>1228.0</td>\n",
       "      <td>1233.0</td>\n",
       "      <td>1291.0</td>\n",
       "      <td>1357.0</td>\n",
       "      <td>1591.0</td>\n",
       "      <td>1541.0</td>\n",
       "      <td>1798.0</td>\n",
       "      <td>1820.0</td>\n",
       "      <td>1826.084158</td>\n",
       "      <td>1975.242574</td>\n",
       "      <td>2124.400990</td>\n",
       "      <td>2273.559406</td>\n",
       "      <td>2422.717822</td>\n",
       "      <td>2571.876238</td>\n",
       "    </tr>\n",
       "    <tr>\n",
       "      <th>34</th>\n",
       "      <td>145.0</td>\n",
       "      <td>119.0</td>\n",
       "      <td>155.0</td>\n",
       "      <td>104.0</td>\n",
       "      <td>96.0</td>\n",
       "      <td>133.0</td>\n",
       "      <td>132.0</td>\n",
       "      <td>162.0</td>\n",
       "      <td>172.0</td>\n",
       "      <td>197.0</td>\n",
       "      <td>172.103960</td>\n",
       "      <td>183.064356</td>\n",
       "      <td>194.024752</td>\n",
       "      <td>204.985149</td>\n",
       "      <td>215.945545</td>\n",
       "      <td>226.905941</td>\n",
       "    </tr>\n",
       "  </tbody>\n",
       "</table>\n",
       "</div>"
      ],
      "text/plain": [
       "    FY 2010  FY 2011  FY 2012  FY 2013  FY 2014  FY 2015  FY 2016  FY 2017  \\\n",
       "15    801.0    864.0   1032.0    917.0    878.0   1017.0    992.0   1006.0   \n",
       "23    627.0    572.0    520.0    583.0    642.0    735.0    899.0    946.0   \n",
       "25   1170.0   1212.0   1228.0   1233.0   1291.0   1357.0   1591.0   1541.0   \n",
       "34    145.0    119.0    155.0    104.0     96.0    133.0    132.0    162.0   \n",
       "\n",
       "    FY 2018  FY 2019      FY 2020      FY 2022      FY 2024      FY 2026  \\\n",
       "15   1074.0   1228.0  1174.101485  1244.086634  1314.071782  1384.056931   \n",
       "23   1284.0   1347.0  1263.574257  1431.831683  1600.089109  1768.346535   \n",
       "25   1798.0   1820.0  1826.084158  1975.242574  2124.400990  2273.559406   \n",
       "34    172.0    197.0   172.103960   183.064356   194.024752   204.985149   \n",
       "\n",
       "        FY 2028      FY 2030  \n",
       "15  1454.042079  1524.027228  \n",
       "23  1936.603960  2104.861386  \n",
       "25  2422.717822  2571.876238  \n",
       "34   215.945545   226.905941  "
      ]
     },
     "execution_count": 14,
     "metadata": {},
     "output_type": "execute_result"
    }
   ],
   "source": [
    "plots_df_final"
   ]
  },
  {
   "cell_type": "markdown",
   "metadata": {},
   "source": [
    "## Prediction"
   ]
  },
  {
   "cell_type": "code",
   "execution_count": 15,
   "metadata": {},
   "outputs": [
    {
     "data": {
      "image/png": "[encoded data removed]",
      "text/plain": [
       "<Figure size 432x288 with 1 Axes>"
      ]
     },
     "metadata": {
      "needs_background": "light"
     },
     "output_type": "display_data"
    },
    {
     "data": {
      "image/png": "[encoded data removed]",
      "text/plain": [
       "<Figure size 432x288 with 1 Axes>"
      ]
     },
     "metadata": {
      "needs_background": "light"
     },
     "output_type": "display_data"
    },
    {
     "data": {
      "image/png": "[encoded data removed]",
      "text/plain": [
       "<Figure size 432x288 with 1 Axes>"
      ]
     },
     "metadata": {
      "needs_background": "light"
     },
     "output_type": "display_data"
    },
    {
     "data": {
      "image/png": "[encoded data removed]",
      "text/plain": [
       "<Figure size 432x288 with 1 Axes>"
      ]
     },
     "metadata": {
      "needs_background": "light"
     },
     "output_type": "display_data"
    }
   ],
   "source": [
    "for index,row in plots_df_final.iterrows():\n",
    "    values = row.values.tolist()\n",
    "    X = years_list + predicted_years\n",
    "    y = values\n",
    "\n",
    "    plt.plot(X, y)\n",
    "    plt.xlabel(\"Year\")\n",
    "    plt.ylabel(f\"Adoption\")\n",
    "    plt.title(f\"Foster Care Trends - {states[index]}\")\n",
    "    \n",
    "    \n",
    "    plt.savefig(f\"Images/{states[index]}_Adoption.png\")\n",
    "    plt.show()"
   ]
  },
  {
   "cell_type": "code",
   "execution_count": null,
   "metadata": {},
   "outputs": [],
   "source": []
  }
 ],
 "metadata": {
  "kernelspec": {
   "display_name": "Python 3",
   "language": "python",
   "name": "python3"
  },
  "language_info": {
   "codemirror_mode": {
    "name": "ipython",
    "version": 3
   },
   "file_extension": ".py",
   "mimetype": "text/x-python",
   "name": "python",
   "nbconvert_exporter": "python",
   "pygments_lexer": "ipython3",
   "version": "3.7.6"
  }
 },
 "nbformat": 4,
 "nbformat_minor": 4
}
