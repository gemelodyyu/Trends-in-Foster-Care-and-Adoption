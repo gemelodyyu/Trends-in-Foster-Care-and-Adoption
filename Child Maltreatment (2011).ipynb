{
 "cells": [
  {
   "cell_type": "markdown",
   "metadata": {},
   "source": [
    "Source: https://www.acf.hhs.gov/sites/default/files/documents/cb/cm11.pdf"
   ]
  },
  {
   "cell_type": "code",
   "execution_count": 1,
   "metadata": {},
   "outputs": [],
   "source": [
    "import pandas as pd\n",
    "import matplotlib.pyplot as plt"
   ]
  },
  {
   "cell_type": "markdown",
   "metadata": {},
   "source": [
    "## Import & Clean Data"
   ]
  },
  {
   "cell_type": "code",
   "execution_count": 2,
   "metadata": {},
   "outputs": [],
   "source": [
    "# \"In NCANDS, a victim is defined as a child for whom the State determined at least one \n",
    "#  maltreatment was substantiated or indicated\"\n",
    "\n",
    "victims_df = pd.read_csv(\"Data/victims_2011.txt\", sep='\\t')\n",
    "in_care_df = pd.read_csv(\"Data/in_care.txt\", sep='\\t')\n",
    "adopted_df = pd.read_csv(\"Data/adopted.txt\", sep='\\t')\n",
    "tpr_df = pd.read_csv(\"Data/tpr.txt\", sep='\\t')\n",
    "perpetrators_df = pd.read_csv(\"Data/perpetrators.txt\", sep='\\t')"
   ]
  },
  {
   "cell_type": "code",
   "execution_count": 3,
   "metadata": {},
   "outputs": [
    {
     "data": {
      "text/html": [
       "<div>\n",
       "<style scoped>\n",
       "    .dataframe tbody tr th:only-of-type {\n",
       "        vertical-align: middle;\n",
       "    }\n",
       "\n",
       "    .dataframe tbody tr th {\n",
       "        vertical-align: top;\n",
       "    }\n",
       "\n",
       "    .dataframe thead th {\n",
       "        text-align: right;\n",
       "    }\n",
       "</style>\n",
       "<table border=\"1\" class=\"dataframe\">\n",
       "  <thead>\n",
       "    <tr style=\"text-align: right;\">\n",
       "      <th></th>\n",
       "      <th>Status</th>\n",
       "      <th>State</th>\n",
       "      <th>FY 2010</th>\n",
       "      <th>FY 2011</th>\n",
       "      <th>FY 2012</th>\n",
       "      <th>FY 2013</th>\n",
       "      <th>FY 2014</th>\n",
       "      <th>FY 2015</th>\n",
       "      <th>FY 2016</th>\n",
       "      <th>FY 2017</th>\n",
       "      <th>FY 2018</th>\n",
       "      <th>FY 2019</th>\n",
       "    </tr>\n",
       "  </thead>\n",
       "  <tbody>\n",
       "    <tr>\n",
       "      <th>0</th>\n",
       "      <td>Adopted</td>\n",
       "      <td>Alabama</td>\n",
       "      <td>606.0</td>\n",
       "      <td>447.0</td>\n",
       "      <td>587.0</td>\n",
       "      <td>532.0</td>\n",
       "      <td>544.0</td>\n",
       "      <td>512.0</td>\n",
       "      <td>503.0</td>\n",
       "      <td>504.0</td>\n",
       "      <td>712.0</td>\n",
       "      <td>738.0</td>\n",
       "    </tr>\n",
       "    <tr>\n",
       "      <th>1</th>\n",
       "      <td>Adopted</td>\n",
       "      <td>Alaska</td>\n",
       "      <td>336.0</td>\n",
       "      <td>293.0</td>\n",
       "      <td>309.0</td>\n",
       "      <td>328.0</td>\n",
       "      <td>367.0</td>\n",
       "      <td>357.0</td>\n",
       "      <td>312.0</td>\n",
       "      <td>366.0</td>\n",
       "      <td>353.0</td>\n",
       "      <td>396.0</td>\n",
       "    </tr>\n",
       "    <tr>\n",
       "      <th>2</th>\n",
       "      <td>Adopted</td>\n",
       "      <td>Arizona</td>\n",
       "      <td>2045.0</td>\n",
       "      <td>2275.0</td>\n",
       "      <td>2275.0</td>\n",
       "      <td>2522.0</td>\n",
       "      <td>3090.0</td>\n",
       "      <td>3236.0</td>\n",
       "      <td>3654.0</td>\n",
       "      <td>4298.0</td>\n",
       "      <td>3926.0</td>\n",
       "      <td>3373.0</td>\n",
       "    </tr>\n",
       "    <tr>\n",
       "      <th>3</th>\n",
       "      <td>Adopted</td>\n",
       "      <td>Arkansas</td>\n",
       "      <td>597.0</td>\n",
       "      <td>591.0</td>\n",
       "      <td>703.0</td>\n",
       "      <td>691.0</td>\n",
       "      <td>743.0</td>\n",
       "      <td>740.0</td>\n",
       "      <td>758.0</td>\n",
       "      <td>971.0</td>\n",
       "      <td>1001.0</td>\n",
       "      <td>984.0</td>\n",
       "    </tr>\n",
       "    <tr>\n",
       "      <th>4</th>\n",
       "      <td>Adopted</td>\n",
       "      <td>California</td>\n",
       "      <td>6459.0</td>\n",
       "      <td>5710.0</td>\n",
       "      <td>5938.0</td>\n",
       "      <td>5541.0</td>\n",
       "      <td>5471.0</td>\n",
       "      <td>6079.0</td>\n",
       "      <td>6542.0</td>\n",
       "      <td>6524.0</td>\n",
       "      <td>6966.0</td>\n",
       "      <td>6981.0</td>\n",
       "    </tr>\n",
       "  </tbody>\n",
       "</table>\n",
       "</div>"
      ],
      "text/plain": [
       "    Status       State  FY 2010  FY 2011  FY 2012  FY 2013  FY 2014  FY 2015  \\\n",
       "0  Adopted     Alabama    606.0    447.0    587.0    532.0    544.0    512.0   \n",
       "1  Adopted      Alaska    336.0    293.0    309.0    328.0    367.0    357.0   \n",
       "2  Adopted     Arizona   2045.0   2275.0   2275.0   2522.0   3090.0   3236.0   \n",
       "3  Adopted    Arkansas    597.0    591.0    703.0    691.0    743.0    740.0   \n",
       "4  Adopted  California   6459.0   5710.0   5938.0   5541.0   5471.0   6079.0   \n",
       "\n",
       "   FY 2016  FY 2017  FY 2018  FY 2019  \n",
       "0    503.0    504.0    712.0    738.0  \n",
       "1    312.0    366.0    353.0    396.0  \n",
       "2   3654.0   4298.0   3926.0   3373.0  \n",
       "3    758.0    971.0   1001.0    984.0  \n",
       "4   6542.0   6524.0   6966.0   6981.0  "
      ]
     },
     "execution_count": 3,
     "metadata": {},
     "output_type": "execute_result"
    }
   ],
   "source": [
    "adopted_df.head()"
   ]
  },
  {
   "cell_type": "code",
   "execution_count": 4,
   "metadata": {},
   "outputs": [],
   "source": [
    "victims_df = victims_df.rename(columns = {\"Number\":\"Victim Population\", \"Rate per 1,000\":\"Victim Rate per 1,000\"})\n",
    "perpetrators_df = perpetrators_df.rename(columns = {\"Unique count Perpetrators\":\"Perpetrators\"})"
   ]
  },
  {
   "cell_type": "code",
   "execution_count": 6,
   "metadata": {},
   "outputs": [],
   "source": [
    "in_care = in_care_df.copy()\n",
    "tpr = tpr_df.copy()\n",
    "adopted = adopted_df.copy()"
   ]
  },
  {
   "cell_type": "code",
   "execution_count": 7,
   "metadata": {},
   "outputs": [
    {
     "data": {
      "text/html": [
       "<div>\n",
       "<style scoped>\n",
       "    .dataframe tbody tr th:only-of-type {\n",
       "        vertical-align: middle;\n",
       "    }\n",
       "\n",
       "    .dataframe tbody tr th {\n",
       "        vertical-align: top;\n",
       "    }\n",
       "\n",
       "    .dataframe thead th {\n",
       "        text-align: right;\n",
       "    }\n",
       "</style>\n",
       "<table border=\"1\" class=\"dataframe\">\n",
       "  <thead>\n",
       "    <tr style=\"text-align: right;\">\n",
       "      <th></th>\n",
       "      <th>State</th>\n",
       "      <th>FY 2010</th>\n",
       "      <th>FY 2011</th>\n",
       "      <th>FY 2012</th>\n",
       "      <th>FY 2013</th>\n",
       "      <th>FY 2014</th>\n",
       "      <th>FY 2015</th>\n",
       "      <th>FY 2016</th>\n",
       "      <th>FY 2017</th>\n",
       "      <th>FY 2018</th>\n",
       "      <th>FY 2019</th>\n",
       "      <th>Difference</th>\n",
       "    </tr>\n",
       "  </thead>\n",
       "  <tbody>\n",
       "    <tr>\n",
       "      <th>0</th>\n",
       "      <td>Alabama</td>\n",
       "      <td>5350.0</td>\n",
       "      <td>5253.0</td>\n",
       "      <td>4561.0</td>\n",
       "      <td>4435.0</td>\n",
       "      <td>4526.0</td>\n",
       "      <td>4745.0</td>\n",
       "      <td>5053.0</td>\n",
       "      <td>5631.0</td>\n",
       "      <td>5930.0</td>\n",
       "      <td>5783.0</td>\n",
       "      <td>433.0</td>\n",
       "    </tr>\n",
       "    <tr>\n",
       "      <th>1</th>\n",
       "      <td>Alaska</td>\n",
       "      <td>1791.0</td>\n",
       "      <td>1835.0</td>\n",
       "      <td>1854.0</td>\n",
       "      <td>1982.0</td>\n",
       "      <td>2190.0</td>\n",
       "      <td>2653.0</td>\n",
       "      <td>2824.0</td>\n",
       "      <td>2739.0</td>\n",
       "      <td>2781.0</td>\n",
       "      <td>2879.0</td>\n",
       "      <td>1088.0</td>\n",
       "    </tr>\n",
       "    <tr>\n",
       "      <th>2</th>\n",
       "      <td>Arizona</td>\n",
       "      <td>9930.0</td>\n",
       "      <td>10883.0</td>\n",
       "      <td>13461.0</td>\n",
       "      <td>14399.0</td>\n",
       "      <td>16246.0</td>\n",
       "      <td>17738.0</td>\n",
       "      <td>17118.0</td>\n",
       "      <td>15031.0</td>\n",
       "      <td>13360.0</td>\n",
       "      <td>13330.0</td>\n",
       "      <td>3400.0</td>\n",
       "    </tr>\n",
       "    <tr>\n",
       "      <th>3</th>\n",
       "      <td>Arkansas</td>\n",
       "      <td>3756.0</td>\n",
       "      <td>3732.0</td>\n",
       "      <td>3711.0</td>\n",
       "      <td>3797.0</td>\n",
       "      <td>3806.0</td>\n",
       "      <td>4548.0</td>\n",
       "      <td>4880.0</td>\n",
       "      <td>4776.0</td>\n",
       "      <td>4234.0</td>\n",
       "      <td>4127.0</td>\n",
       "      <td>371.0</td>\n",
       "    </tr>\n",
       "    <tr>\n",
       "      <th>4</th>\n",
       "      <td>California</td>\n",
       "      <td>56202.0</td>\n",
       "      <td>54754.0</td>\n",
       "      <td>54553.0</td>\n",
       "      <td>55383.0</td>\n",
       "      <td>56771.0</td>\n",
       "      <td>55983.0</td>\n",
       "      <td>54685.0</td>\n",
       "      <td>51869.0</td>\n",
       "      <td>52337.0</td>\n",
       "      <td>51268.0</td>\n",
       "      <td>-4934.0</td>\n",
       "    </tr>\n",
       "  </tbody>\n",
       "</table>\n",
       "</div>"
      ],
      "text/plain": [
       "        State  FY 2010  FY 2011  FY 2012  FY 2013  FY 2014  FY 2015  FY 2016  \\\n",
       "0     Alabama   5350.0   5253.0   4561.0   4435.0   4526.0   4745.0   5053.0   \n",
       "1      Alaska   1791.0   1835.0   1854.0   1982.0   2190.0   2653.0   2824.0   \n",
       "2     Arizona   9930.0  10883.0  13461.0  14399.0  16246.0  17738.0  17118.0   \n",
       "3    Arkansas   3756.0   3732.0   3711.0   3797.0   3806.0   4548.0   4880.0   \n",
       "4  California  56202.0  54754.0  54553.0  55383.0  56771.0  55983.0  54685.0   \n",
       "\n",
       "   FY 2017  FY 2018  FY 2019  Difference  \n",
       "0   5631.0   5930.0   5783.0       433.0  \n",
       "1   2739.0   2781.0   2879.0      1088.0  \n",
       "2  15031.0  13360.0  13330.0      3400.0  \n",
       "3   4776.0   4234.0   4127.0       371.0  \n",
       "4  51869.0  52337.0  51268.0     -4934.0  "
      ]
     },
     "execution_count": 7,
     "metadata": {},
     "output_type": "execute_result"
    }
   ],
   "source": [
    "in_care[\"Difference\"] = in_care[\"FY 2019\"] - in_care[\"FY 2010\"]\n",
    "in_care.head()"
   ]
  },
  {
   "cell_type": "code",
   "execution_count": 8,
   "metadata": {},
   "outputs": [],
   "source": [
    "status = []\n",
    "for index, row in in_care.iterrows():\n",
    "    difference = row[\"Difference\"]\n",
    "    if difference > 0:\n",
    "        status.append(\"Increase\")\n",
    "    else:\n",
    "        status.append(\"Decrease\")\n",
    "        \n",
    "in_care[\"Status\"] = status"
   ]
  },
  {
   "cell_type": "code",
   "execution_count": 9,
   "metadata": {},
   "outputs": [],
   "source": [
    "in_care = in_care[[\"State\",\"Status\"]]"
   ]
  },
  {
   "cell_type": "code",
   "execution_count": 10,
   "metadata": {},
   "outputs": [],
   "source": [
    "tpr = tpr.rename(columns = {\"FY 2011\":\"2011 TPR\"})\n",
    "tpr = tpr[[\"State\",\"2011 TPR\"]]"
   ]
  },
  {
   "cell_type": "code",
   "execution_count": 11,
   "metadata": {},
   "outputs": [],
   "source": [
    "adopted = adopted.rename(columns = {\"FY 2011\":\"2011 Adopted\"})\n",
    "adopted = adopted[[\"State\",\"2011 Adopted\"]]"
   ]
  },
  {
   "cell_type": "code",
   "execution_count": 12,
   "metadata": {},
   "outputs": [],
   "source": [
    "victims_df[\"State\"] = victims_df[\"State\"].astype(str)\n",
    "victims_df[\"State\"] = victims_df[\"State\"].str.rstrip()\n",
    "victims_df = victims_df[[\"State\",\"Victim Population\",\"Victim Rate per 1,000\"]]"
   ]
  },
  {
   "cell_type": "code",
   "execution_count": 13,
   "metadata": {},
   "outputs": [],
   "source": [
    "perpetrators_df[\"State\"] = perpetrators_df[\"State\"].astype(str)\n",
    "perpetrators_df[\"State\"] = perpetrators_df[\"State\"].str.rstrip()"
   ]
  },
  {
   "cell_type": "code",
   "execution_count": 14,
   "metadata": {},
   "outputs": [
    {
     "data": {
      "text/html": [
       "<div>\n",
       "<style scoped>\n",
       "    .dataframe tbody tr th:only-of-type {\n",
       "        vertical-align: middle;\n",
       "    }\n",
       "\n",
       "    .dataframe tbody tr th {\n",
       "        vertical-align: top;\n",
       "    }\n",
       "\n",
       "    .dataframe thead th {\n",
       "        text-align: right;\n",
       "    }\n",
       "</style>\n",
       "<table border=\"1\" class=\"dataframe\">\n",
       "  <thead>\n",
       "    <tr style=\"text-align: right;\">\n",
       "      <th></th>\n",
       "      <th>State</th>\n",
       "      <th>Victim Population</th>\n",
       "      <th>Victim Rate per 1,000</th>\n",
       "      <th>Status</th>\n",
       "    </tr>\n",
       "  </thead>\n",
       "  <tbody>\n",
       "    <tr>\n",
       "      <th>0</th>\n",
       "      <td>Alabama</td>\n",
       "      <td>8601.0</td>\n",
       "      <td>7.63</td>\n",
       "      <td>Increasing</td>\n",
       "    </tr>\n",
       "    <tr>\n",
       "      <th>1</th>\n",
       "      <td>Alaska</td>\n",
       "      <td>2898.0</td>\n",
       "      <td>15.38</td>\n",
       "      <td>Increasing</td>\n",
       "    </tr>\n",
       "    <tr>\n",
       "      <th>2</th>\n",
       "      <td>Arizona</td>\n",
       "      <td>8708.0</td>\n",
       "      <td>5.36</td>\n",
       "      <td>Increasing</td>\n",
       "    </tr>\n",
       "    <tr>\n",
       "      <th>3</th>\n",
       "      <td>Arkansas</td>\n",
       "      <td>11105.0</td>\n",
       "      <td>15.63</td>\n",
       "      <td>Increasing</td>\n",
       "    </tr>\n",
       "    <tr>\n",
       "      <th>4</th>\n",
       "      <td>California</td>\n",
       "      <td>80100.0</td>\n",
       "      <td>8.64</td>\n",
       "      <td>Decreasing</td>\n",
       "    </tr>\n",
       "  </tbody>\n",
       "</table>\n",
       "</div>"
      ],
      "text/plain": [
       "        State  Victim Population  Victim Rate per 1,000      Status\n",
       "0     Alabama             8601.0                   7.63  Increasing\n",
       "1      Alaska             2898.0                  15.38  Increasing\n",
       "2     Arizona             8708.0                   5.36  Increasing\n",
       "3    Arkansas            11105.0                  15.63  Increasing\n",
       "4  California            80100.0                   8.64  Decreasing"
      ]
     },
     "execution_count": 14,
     "metadata": {},
     "output_type": "execute_result"
    }
   ],
   "source": [
    "in_care_victims = victims_df.merge(in_care, how=\"inner\", on = \"State\")\n",
    "in_care_victims.head()"
   ]
  },
  {
   "cell_type": "code",
   "execution_count": 15,
   "metadata": {},
   "outputs": [
    {
     "data": {
      "text/html": [
       "<div>\n",
       "<style scoped>\n",
       "    .dataframe tbody tr th:only-of-type {\n",
       "        vertical-align: middle;\n",
       "    }\n",
       "\n",
       "    .dataframe tbody tr th {\n",
       "        vertical-align: top;\n",
       "    }\n",
       "\n",
       "    .dataframe thead th {\n",
       "        text-align: right;\n",
       "    }\n",
       "</style>\n",
       "<table border=\"1\" class=\"dataframe\">\n",
       "  <thead>\n",
       "    <tr style=\"text-align: right;\">\n",
       "      <th></th>\n",
       "      <th>State</th>\n",
       "      <th>Unique count Perpetrators</th>\n",
       "      <th>Victim Population</th>\n",
       "      <th>Victim Rate per 1,000</th>\n",
       "      <th>Status</th>\n",
       "    </tr>\n",
       "  </thead>\n",
       "  <tbody>\n",
       "    <tr>\n",
       "      <th>0</th>\n",
       "      <td>Alabama</td>\n",
       "      <td>7260.0</td>\n",
       "      <td>8601.0</td>\n",
       "      <td>7.63</td>\n",
       "      <td>Increasing</td>\n",
       "    </tr>\n",
       "    <tr>\n",
       "      <th>1</th>\n",
       "      <td>Alaska</td>\n",
       "      <td>2238.0</td>\n",
       "      <td>2898.0</td>\n",
       "      <td>15.38</td>\n",
       "      <td>Increasing</td>\n",
       "    </tr>\n",
       "    <tr>\n",
       "      <th>2</th>\n",
       "      <td>Arizona</td>\n",
       "      <td>9405.0</td>\n",
       "      <td>8708.0</td>\n",
       "      <td>5.36</td>\n",
       "      <td>Increasing</td>\n",
       "    </tr>\n",
       "    <tr>\n",
       "      <th>3</th>\n",
       "      <td>Arkansas</td>\n",
       "      <td>9552.0</td>\n",
       "      <td>11105.0</td>\n",
       "      <td>15.63</td>\n",
       "      <td>Increasing</td>\n",
       "    </tr>\n",
       "    <tr>\n",
       "      <th>4</th>\n",
       "      <td>California</td>\n",
       "      <td>62574.0</td>\n",
       "      <td>80100.0</td>\n",
       "      <td>8.64</td>\n",
       "      <td>Decreasing</td>\n",
       "    </tr>\n",
       "  </tbody>\n",
       "</table>\n",
       "</div>"
      ],
      "text/plain": [
       "        State   Unique count Perpetrators   Victim Population  \\\n",
       "0     Alabama                       7260.0             8601.0   \n",
       "1      Alaska                       2238.0             2898.0   \n",
       "2     Arizona                       9405.0             8708.0   \n",
       "3    Arkansas                       9552.0            11105.0   \n",
       "4  California                      62574.0            80100.0   \n",
       "\n",
       "   Victim Rate per 1,000      Status  \n",
       "0                   7.63  Increasing  \n",
       "1                  15.38  Increasing  \n",
       "2                   5.36  Increasing  \n",
       "3                  15.63  Increasing  \n",
       "4                   8.64  Decreasing  "
      ]
     },
     "execution_count": 15,
     "metadata": {},
     "output_type": "execute_result"
    }
   ],
   "source": [
    "in_care_victims_perps = perpetrators_df.merge(in_care_victims, how = \"inner\", on =\"State\")\n",
    "in_care_victims_perps.head()"
   ]
  },
  {
   "cell_type": "code",
   "execution_count": 16,
   "metadata": {},
   "outputs": [
    {
     "data": {
      "text/html": [
       "<div>\n",
       "<style scoped>\n",
       "    .dataframe tbody tr th:only-of-type {\n",
       "        vertical-align: middle;\n",
       "    }\n",
       "\n",
       "    .dataframe tbody tr th {\n",
       "        vertical-align: top;\n",
       "    }\n",
       "\n",
       "    .dataframe thead th {\n",
       "        text-align: right;\n",
       "    }\n",
       "</style>\n",
       "<table border=\"1\" class=\"dataframe\">\n",
       "  <thead>\n",
       "    <tr style=\"text-align: right;\">\n",
       "      <th></th>\n",
       "      <th>State</th>\n",
       "      <th>2011 TPR</th>\n",
       "      <th>Unique count Perpetrators</th>\n",
       "      <th>Victim Population</th>\n",
       "      <th>Victim Rate per 1,000</th>\n",
       "      <th>Status</th>\n",
       "    </tr>\n",
       "  </thead>\n",
       "  <tbody>\n",
       "    <tr>\n",
       "      <th>0</th>\n",
       "      <td>Alabama</td>\n",
       "      <td>701.0</td>\n",
       "      <td>7260.0</td>\n",
       "      <td>8601.0</td>\n",
       "      <td>7.63</td>\n",
       "      <td>Increasing</td>\n",
       "    </tr>\n",
       "    <tr>\n",
       "      <th>1</th>\n",
       "      <td>Alaska</td>\n",
       "      <td>389.0</td>\n",
       "      <td>2238.0</td>\n",
       "      <td>2898.0</td>\n",
       "      <td>15.38</td>\n",
       "      <td>Increasing</td>\n",
       "    </tr>\n",
       "    <tr>\n",
       "      <th>2</th>\n",
       "      <td>Arizona</td>\n",
       "      <td>2220.0</td>\n",
       "      <td>9405.0</td>\n",
       "      <td>8708.0</td>\n",
       "      <td>5.36</td>\n",
       "      <td>Increasing</td>\n",
       "    </tr>\n",
       "    <tr>\n",
       "      <th>3</th>\n",
       "      <td>Arkansas</td>\n",
       "      <td>742.0</td>\n",
       "      <td>9552.0</td>\n",
       "      <td>11105.0</td>\n",
       "      <td>15.63</td>\n",
       "      <td>Increasing</td>\n",
       "    </tr>\n",
       "    <tr>\n",
       "      <th>4</th>\n",
       "      <td>California</td>\n",
       "      <td>6928.0</td>\n",
       "      <td>62574.0</td>\n",
       "      <td>80100.0</td>\n",
       "      <td>8.64</td>\n",
       "      <td>Decreasing</td>\n",
       "    </tr>\n",
       "  </tbody>\n",
       "</table>\n",
       "</div>"
      ],
      "text/plain": [
       "        State  2011 TPR   Unique count Perpetrators   Victim Population  \\\n",
       "0     Alabama     701.0                       7260.0             8601.0   \n",
       "1      Alaska     389.0                       2238.0             2898.0   \n",
       "2     Arizona    2220.0                       9405.0             8708.0   \n",
       "3    Arkansas     742.0                       9552.0            11105.0   \n",
       "4  California    6928.0                      62574.0            80100.0   \n",
       "\n",
       "   Victim Rate per 1,000      Status  \n",
       "0                   7.63  Increasing  \n",
       "1                  15.38  Increasing  \n",
       "2                   5.36  Increasing  \n",
       "3                  15.63  Increasing  \n",
       "4                   8.64  Decreasing  "
      ]
     },
     "execution_count": 16,
     "metadata": {},
     "output_type": "execute_result"
    }
   ],
   "source": [
    "in_care_victims_perps_tpr = tpr.merge(in_care_victims_perps, how = \"inner\", on =\"State\")\n",
    "in_care_victims_perps_tpr.head()"
   ]
  },
  {
   "cell_type": "code",
   "execution_count": 17,
   "metadata": {},
   "outputs": [
    {
     "data": {
      "text/html": [
       "<div>\n",
       "<style scoped>\n",
       "    .dataframe tbody tr th:only-of-type {\n",
       "        vertical-align: middle;\n",
       "    }\n",
       "\n",
       "    .dataframe tbody tr th {\n",
       "        vertical-align: top;\n",
       "    }\n",
       "\n",
       "    .dataframe thead th {\n",
       "        text-align: right;\n",
       "    }\n",
       "</style>\n",
       "<table border=\"1\" class=\"dataframe\">\n",
       "  <thead>\n",
       "    <tr style=\"text-align: right;\">\n",
       "      <th></th>\n",
       "      <th>State</th>\n",
       "      <th>2011 Adopted</th>\n",
       "      <th>2011 TPR</th>\n",
       "      <th>Unique count Perpetrators</th>\n",
       "      <th>Victim Population</th>\n",
       "      <th>Victim Rate per 1,000</th>\n",
       "      <th>Status</th>\n",
       "    </tr>\n",
       "  </thead>\n",
       "  <tbody>\n",
       "    <tr>\n",
       "      <th>0</th>\n",
       "      <td>Alabama</td>\n",
       "      <td>447.0</td>\n",
       "      <td>701.0</td>\n",
       "      <td>7260.0</td>\n",
       "      <td>8601.0</td>\n",
       "      <td>7.63</td>\n",
       "      <td>Increasing</td>\n",
       "    </tr>\n",
       "    <tr>\n",
       "      <th>1</th>\n",
       "      <td>Alaska</td>\n",
       "      <td>293.0</td>\n",
       "      <td>389.0</td>\n",
       "      <td>2238.0</td>\n",
       "      <td>2898.0</td>\n",
       "      <td>15.38</td>\n",
       "      <td>Increasing</td>\n",
       "    </tr>\n",
       "    <tr>\n",
       "      <th>2</th>\n",
       "      <td>Arizona</td>\n",
       "      <td>2275.0</td>\n",
       "      <td>2220.0</td>\n",
       "      <td>9405.0</td>\n",
       "      <td>8708.0</td>\n",
       "      <td>5.36</td>\n",
       "      <td>Increasing</td>\n",
       "    </tr>\n",
       "    <tr>\n",
       "      <th>3</th>\n",
       "      <td>Arkansas</td>\n",
       "      <td>591.0</td>\n",
       "      <td>742.0</td>\n",
       "      <td>9552.0</td>\n",
       "      <td>11105.0</td>\n",
       "      <td>15.63</td>\n",
       "      <td>Increasing</td>\n",
       "    </tr>\n",
       "    <tr>\n",
       "      <th>4</th>\n",
       "      <td>California</td>\n",
       "      <td>5710.0</td>\n",
       "      <td>6928.0</td>\n",
       "      <td>62574.0</td>\n",
       "      <td>80100.0</td>\n",
       "      <td>8.64</td>\n",
       "      <td>Decreasing</td>\n",
       "    </tr>\n",
       "  </tbody>\n",
       "</table>\n",
       "</div>"
      ],
      "text/plain": [
       "        State  2011 Adopted  2011 TPR   Unique count Perpetrators   \\\n",
       "0     Alabama         447.0     701.0                       7260.0   \n",
       "1      Alaska         293.0     389.0                       2238.0   \n",
       "2     Arizona        2275.0    2220.0                       9405.0   \n",
       "3    Arkansas         591.0     742.0                       9552.0   \n",
       "4  California        5710.0    6928.0                      62574.0   \n",
       "\n",
       "   Victim Population  Victim Rate per 1,000      Status  \n",
       "0             8601.0                   7.63  Increasing  \n",
       "1             2898.0                  15.38  Increasing  \n",
       "2             8708.0                   5.36  Increasing  \n",
       "3            11105.0                  15.63  Increasing  \n",
       "4            80100.0                   8.64  Decreasing  "
      ]
     },
     "execution_count": 17,
     "metadata": {},
     "output_type": "execute_result"
    }
   ],
   "source": [
    "in_care_victims_perps_tpr_adopted = adopted.merge(in_care_victims_perps_tpr, how = \"inner\", on =\"State\")\n",
    "in_care_victims_perps_tpr_adopted.head()"
   ]
  },
  {
   "cell_type": "code",
   "execution_count": 18,
   "metadata": {},
   "outputs": [
    {
     "data": {
      "text/html": [
       "<div>\n",
       "<style scoped>\n",
       "    .dataframe tbody tr th:only-of-type {\n",
       "        vertical-align: middle;\n",
       "    }\n",
       "\n",
       "    .dataframe tbody tr th {\n",
       "        vertical-align: top;\n",
       "    }\n",
       "\n",
       "    .dataframe thead th {\n",
       "        text-align: right;\n",
       "    }\n",
       "</style>\n",
       "<table border=\"1\" class=\"dataframe\">\n",
       "  <thead>\n",
       "    <tr style=\"text-align: right;\">\n",
       "      <th></th>\n",
       "      <th>2011 Adopted</th>\n",
       "      <th>2011 TPR</th>\n",
       "      <th>Unique count Perpetrators</th>\n",
       "      <th>Victim Population</th>\n",
       "      <th>Victim Rate per 1,000</th>\n",
       "      <th>Status</th>\n",
       "    </tr>\n",
       "  </thead>\n",
       "  <tbody>\n",
       "    <tr>\n",
       "      <th>0</th>\n",
       "      <td>447.0</td>\n",
       "      <td>701.0</td>\n",
       "      <td>7260.0</td>\n",
       "      <td>8601.0</td>\n",
       "      <td>7.63</td>\n",
       "      <td>Increasing</td>\n",
       "    </tr>\n",
       "    <tr>\n",
       "      <th>1</th>\n",
       "      <td>293.0</td>\n",
       "      <td>389.0</td>\n",
       "      <td>2238.0</td>\n",
       "      <td>2898.0</td>\n",
       "      <td>15.38</td>\n",
       "      <td>Increasing</td>\n",
       "    </tr>\n",
       "    <tr>\n",
       "      <th>2</th>\n",
       "      <td>2275.0</td>\n",
       "      <td>2220.0</td>\n",
       "      <td>9405.0</td>\n",
       "      <td>8708.0</td>\n",
       "      <td>5.36</td>\n",
       "      <td>Increasing</td>\n",
       "    </tr>\n",
       "    <tr>\n",
       "      <th>3</th>\n",
       "      <td>591.0</td>\n",
       "      <td>742.0</td>\n",
       "      <td>9552.0</td>\n",
       "      <td>11105.0</td>\n",
       "      <td>15.63</td>\n",
       "      <td>Increasing</td>\n",
       "    </tr>\n",
       "    <tr>\n",
       "      <th>4</th>\n",
       "      <td>5710.0</td>\n",
       "      <td>6928.0</td>\n",
       "      <td>62574.0</td>\n",
       "      <td>80100.0</td>\n",
       "      <td>8.64</td>\n",
       "      <td>Decreasing</td>\n",
       "    </tr>\n",
       "  </tbody>\n",
       "</table>\n",
       "</div>"
      ],
      "text/plain": [
       "   2011 Adopted  2011 TPR   Unique count Perpetrators   Victim Population  \\\n",
       "0         447.0     701.0                       7260.0             8601.0   \n",
       "1         293.0     389.0                       2238.0             2898.0   \n",
       "2        2275.0    2220.0                       9405.0             8708.0   \n",
       "3         591.0     742.0                       9552.0            11105.0   \n",
       "4        5710.0    6928.0                      62574.0            80100.0   \n",
       "\n",
       "   Victim Rate per 1,000      Status  \n",
       "0                   7.63  Increasing  \n",
       "1                  15.38  Increasing  \n",
       "2                   5.36  Increasing  \n",
       "3                  15.63  Increasing  \n",
       "4                   8.64  Decreasing  "
      ]
     },
     "execution_count": 18,
     "metadata": {},
     "output_type": "execute_result"
    }
   ],
   "source": [
    "final_df = in_care_victims_perps_tpr_adopted.drop(\"State\",axis=1)\n",
    "final_df = final_df.dropna(how='any')\n",
    "final_df.head()"
   ]
  },
  {
   "cell_type": "code",
   "execution_count": 19,
   "metadata": {},
   "outputs": [
    {
     "data": {
      "text/plain": [
       "(49,)"
      ]
     },
     "execution_count": 19,
     "metadata": {},
     "output_type": "execute_result"
    }
   ],
   "source": [
    "target = final_df[\"Status\"]\n",
    "target_names = [\"Increasing\", \"Decreasing\"]\n",
    "target.shape"
   ]
  },
  {
   "cell_type": "code",
   "execution_count": 20,
   "metadata": {},
   "outputs": [
    {
     "data": {
      "text/plain": [
       "(49, 5)"
      ]
     },
     "execution_count": 20,
     "metadata": {},
     "output_type": "execute_result"
    }
   ],
   "source": [
    "data = final_df.drop(\"Status\", axis=1)\n",
    "data.shape"
   ]
  },
  {
   "cell_type": "code",
   "execution_count": 21,
   "metadata": {},
   "outputs": [
    {
     "data": {
      "text/html": [
       "<div>\n",
       "<style scoped>\n",
       "    .dataframe tbody tr th:only-of-type {\n",
       "        vertical-align: middle;\n",
       "    }\n",
       "\n",
       "    .dataframe tbody tr th {\n",
       "        vertical-align: top;\n",
       "    }\n",
       "\n",
       "    .dataframe thead th {\n",
       "        text-align: right;\n",
       "    }\n",
       "</style>\n",
       "<table border=\"1\" class=\"dataframe\">\n",
       "  <thead>\n",
       "    <tr style=\"text-align: right;\">\n",
       "      <th></th>\n",
       "      <th>2011 Adopted</th>\n",
       "      <th>2011 TPR</th>\n",
       "      <th>Unique count Perpetrators</th>\n",
       "      <th>Victim Population</th>\n",
       "      <th>Victim Rate per 1,000</th>\n",
       "    </tr>\n",
       "  </thead>\n",
       "  <tbody>\n",
       "    <tr>\n",
       "      <th>0</th>\n",
       "      <td>447.0</td>\n",
       "      <td>701.0</td>\n",
       "      <td>7260.0</td>\n",
       "      <td>8601.0</td>\n",
       "      <td>7.63</td>\n",
       "    </tr>\n",
       "    <tr>\n",
       "      <th>1</th>\n",
       "      <td>293.0</td>\n",
       "      <td>389.0</td>\n",
       "      <td>2238.0</td>\n",
       "      <td>2898.0</td>\n",
       "      <td>15.38</td>\n",
       "    </tr>\n",
       "    <tr>\n",
       "      <th>2</th>\n",
       "      <td>2275.0</td>\n",
       "      <td>2220.0</td>\n",
       "      <td>9405.0</td>\n",
       "      <td>8708.0</td>\n",
       "      <td>5.36</td>\n",
       "    </tr>\n",
       "    <tr>\n",
       "      <th>3</th>\n",
       "      <td>591.0</td>\n",
       "      <td>742.0</td>\n",
       "      <td>9552.0</td>\n",
       "      <td>11105.0</td>\n",
       "      <td>15.63</td>\n",
       "    </tr>\n",
       "    <tr>\n",
       "      <th>4</th>\n",
       "      <td>5710.0</td>\n",
       "      <td>6928.0</td>\n",
       "      <td>62574.0</td>\n",
       "      <td>80100.0</td>\n",
       "      <td>8.64</td>\n",
       "    </tr>\n",
       "  </tbody>\n",
       "</table>\n",
       "</div>"
      ],
      "text/plain": [
       "   2011 Adopted  2011 TPR   Unique count Perpetrators   Victim Population  \\\n",
       "0         447.0     701.0                       7260.0             8601.0   \n",
       "1         293.0     389.0                       2238.0             2898.0   \n",
       "2        2275.0    2220.0                       9405.0             8708.0   \n",
       "3         591.0     742.0                       9552.0            11105.0   \n",
       "4        5710.0    6928.0                      62574.0            80100.0   \n",
       "\n",
       "   Victim Rate per 1,000  \n",
       "0                   7.63  \n",
       "1                  15.38  \n",
       "2                   5.36  \n",
       "3                  15.63  \n",
       "4                   8.64  "
      ]
     },
     "execution_count": 21,
     "metadata": {},
     "output_type": "execute_result"
    }
   ],
   "source": [
    "data.head()"
   ]
  },
  {
   "cell_type": "markdown",
   "metadata": {},
   "source": [
    "# Machine Learning"
   ]
  },
  {
   "cell_type": "code",
   "execution_count": 22,
   "metadata": {},
   "outputs": [],
   "source": [
    "# Test, train, split\n",
    "from sklearn.model_selection import train_test_split\n",
    "X_train, X_test, y_train, y_test = train_test_split(data, target, random_state=42)"
   ]
  },
  {
   "cell_type": "code",
   "execution_count": 23,
   "metadata": {},
   "outputs": [],
   "source": [
    "from sklearn.preprocessing import StandardScaler\n",
    "\n",
    "X_train_scaled = StandardScaler().fit(X_train)\n",
    "X_test_scaled = StandardScaler().fit(X_test)"
   ]
  },
  {
   "cell_type": "markdown",
   "metadata": {},
   "source": [
    "## SVM"
   ]
  },
  {
   "cell_type": "code",
   "execution_count": 35,
   "metadata": {},
   "outputs": [
    {
     "data": {
      "text/plain": [
       "SVC(C=1.0, break_ties=False, cache_size=200, class_weight=None, coef0=0.0,\n",
       "    decision_function_shape='ovr', degree=3, gamma='scale', kernel='linear',\n",
       "    max_iter=-1, probability=False, random_state=None, shrinking=True,\n",
       "    tol=0.001, verbose=False)"
      ]
     },
     "execution_count": 35,
     "metadata": {},
     "output_type": "execute_result"
    }
   ],
   "source": [
    "from sklearn.svm import SVC \n",
    "\n",
    "svm_model = SVC(kernel='linear')\n",
    "svm_model.fit(X_train, y_train)"
   ]
  },
  {
   "cell_type": "code",
   "execution_count": 36,
   "metadata": {},
   "outputs": [
    {
     "name": "stdout",
     "output_type": "stream",
     "text": [
      "Test Acc: 0.615\n"
     ]
    }
   ],
   "source": [
    "# Model Accuracy\n",
    "print('Test Acc: %.3f' % svm_model.score(X_test, y_test))"
   ]
  },
  {
   "cell_type": "code",
   "execution_count": 37,
   "metadata": {},
   "outputs": [
    {
     "name": "stdout",
     "output_type": "stream",
     "text": [
      "              precision    recall  f1-score   support\n",
      "\n",
      "  Increasing       0.75      0.43      0.55         7\n",
      "  Decreasing       0.56      0.83      0.67         6\n",
      "\n",
      "    accuracy                           0.62        13\n",
      "   macro avg       0.65      0.63      0.61        13\n",
      "weighted avg       0.66      0.62      0.60        13\n",
      "\n"
     ]
    }
   ],
   "source": [
    "# Calculate classification report\n",
    "from sklearn.metrics import classification_report\n",
    "predictions = svm_model.predict(X_test)\n",
    "print(classification_report(y_test, predictions,\n",
    "                            target_names=target_names))"
   ]
  },
  {
   "cell_type": "markdown",
   "metadata": {},
   "source": [
    "## Logistic Regression"
   ]
  },
  {
   "cell_type": "code",
   "execution_count": 27,
   "metadata": {},
   "outputs": [],
   "source": [
    "from sklearn.linear_model import LogisticRegression\n",
    "\n",
    "classifier = LogisticRegression()"
   ]
  },
  {
   "cell_type": "code",
   "execution_count": 28,
   "metadata": {},
   "outputs": [
    {
     "data": {
      "text/plain": [
       "LogisticRegression(C=1.0, class_weight=None, dual=False, fit_intercept=True,\n",
       "                   intercept_scaling=1, l1_ratio=None, max_iter=100,\n",
       "                   multi_class='auto', n_jobs=None, penalty='l2',\n",
       "                   random_state=None, solver='lbfgs', tol=0.0001, verbose=0,\n",
       "                   warm_start=False)"
      ]
     },
     "execution_count": 28,
     "metadata": {},
     "output_type": "execute_result"
    }
   ],
   "source": [
    "classifier.fit(X_train, y_train)"
   ]
  },
  {
   "cell_type": "code",
   "execution_count": 29,
   "metadata": {},
   "outputs": [
    {
     "name": "stdout",
     "output_type": "stream",
     "text": [
      "Testing Data Score: 0.38461538461538464\n"
     ]
    }
   ],
   "source": [
    "print(f\"Testing Data Score: {classifier.score(X_test, y_test)}\")"
   ]
  },
  {
   "cell_type": "markdown",
   "metadata": {},
   "source": [
    "## K Nearest Neighbor"
   ]
  },
  {
   "cell_type": "code",
   "execution_count": 30,
   "metadata": {},
   "outputs": [],
   "source": [
    "# Scale your data\n",
    "from sklearn.preprocessing import MinMaxScaler\n",
    "\n",
    "X_scaler = MinMaxScaler().fit(X_train)\n",
    "\n",
    "X_train_scaled = X_scaler.transform(X_train)\n",
    "X_test_scaled = X_scaler.transform(X_test)"
   ]
  },
  {
   "cell_type": "code",
   "execution_count": 31,
   "metadata": {},
   "outputs": [
    {
     "name": "stdout",
     "output_type": "stream",
     "text": [
      "k: 1, Train/Test Score: 1.000/0.385\n",
      "k: 3, Train/Test Score: 0.806/0.462\n",
      "k: 5, Train/Test Score: 0.750/0.538\n",
      "k: 7, Train/Test Score: 0.750/0.462\n",
      "k: 9, Train/Test Score: 0.750/0.462\n",
      "k: 11, Train/Test Score: 0.750/0.462\n",
      "k: 13, Train/Test Score: 0.750/0.462\n",
      "k: 15, Train/Test Score: 0.750/0.462\n",
      "k: 17, Train/Test Score: 0.750/0.462\n",
      "k: 19, Train/Test Score: 0.750/0.462\n"
     ]
    },
    {
     "data": {
      "image/png": "[encoded data removed]",
      "text/plain": [
       "<Figure size 432x288 with 1 Axes>"
      ]
     },
     "metadata": {
      "needs_background": "light"
     },
     "output_type": "display_data"
    }
   ],
   "source": [
    "# Train KNN model and check model scores for desired k value\n",
    "from sklearn.neighbors import KNeighborsClassifier\n",
    "\n",
    "train_scores = []\n",
    "test_scores = []\n",
    "for k in range(1, 20, 2):\n",
    "    knn = KNeighborsClassifier(n_neighbors=k)\n",
    "    knn.fit(X_train_scaled, y_train)\n",
    "    train_score = knn.score(X_train_scaled, y_train)\n",
    "    test_score = knn.score(X_test_scaled, y_test)\n",
    "    train_scores.append(train_score)\n",
    "    test_scores.append(test_score)\n",
    "    print(f\"k: {k}, Train/Test Score: {train_score:.3f}/{test_score:.3f}\")\n",
    "    \n",
    "    \n",
    "plt.plot(range(1, 20, 2), train_scores, marker='o')\n",
    "plt.plot(range(1, 20, 2), test_scores, marker=\"x\")\n",
    "plt.xlabel(\"k neighbors\")\n",
    "plt.ylabel(\"Testing accuracy Score\")\n",
    "plt.show()"
   ]
  },
  {
   "cell_type": "code",
   "execution_count": 32,
   "metadata": {},
   "outputs": [
    {
     "data": {
      "text/plain": [
       "KNeighborsClassifier(algorithm='auto', leaf_size=30, metric='minkowski',\n",
       "                     metric_params=None, n_jobs=None, n_neighbors=5, p=2,\n",
       "                     weights='uniform')"
      ]
     },
     "execution_count": 32,
     "metadata": {},
     "output_type": "execute_result"
    }
   ],
   "source": [
    "# Fit model with k=11\n",
    "knn = KNeighborsClassifier(n_neighbors=5)\n",
    "knn.fit(X_train_scaled, y_train)"
   ]
  },
  {
   "cell_type": "code",
   "execution_count": 33,
   "metadata": {},
   "outputs": [
    {
     "name": "stdout",
     "output_type": "stream",
     "text": [
      "Testing Data Score: 0.5384615384615384\n"
     ]
    }
   ],
   "source": [
    "# Score model\n",
    "print(f\"Testing Data Score: {knn.score(X_test_scaled, y_test)}\")"
   ]
  },
  {
   "cell_type": "markdown",
   "metadata": {},
   "source": [
    "# Prediction"
   ]
  },
  {
   "cell_type": "code",
   "execution_count": 41,
   "metadata": {},
   "outputs": [
    {
     "name": "stdout",
     "output_type": "stream",
     "text": [
      "Rate of children in care is predicted to: ['Decreasing']\n"
     ]
    }
   ],
   "source": [
    "prediction = svm_model.predict([[5930,209,1001,6000,5.6]])\n",
    "\n",
    "print(f\"Rate of children in care is predicted to: {prediction}\")"
   ]
  },
  {
   "cell_type": "code",
   "execution_count": null,
   "metadata": {},
   "outputs": [],
   "source": []
  }
 ],
 "metadata": {
  "kernelspec": {
   "display_name": "Python 3",
   "language": "python",
   "name": "python3"
  },
  "language_info": {
   "codemirror_mode": {
    "name": "ipython",
    "version": 3
   },
   "file_extension": ".py",
   "mimetype": "text/x-python",
   "name": "python",
   "nbconvert_exporter": "python",
   "pygments_lexer": "ipython3",
   "version": "3.7.6"
  }
 },
 "nbformat": 4,
 "nbformat_minor": 4
}
