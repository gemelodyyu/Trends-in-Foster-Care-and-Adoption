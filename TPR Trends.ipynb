{
 "cells": [
  {
   "cell_type": "code",
   "execution_count": 1,
   "metadata": {},
   "outputs": [],
   "source": [
    "# Import dependencies\n",
    "import pandas as pd\n",
    "import numpy as np\n",
    "import matplotlib.pyplot as plt\n",
    "from scipy.stats import linregress"
   ]
  },
  {
   "cell_type": "code",
   "execution_count": 2,
   "metadata": {},
   "outputs": [],
   "source": [
    "# Read in data files\n",
    "in_care_df = pd.read_csv(\"Data/in_care.txt\", sep='\\t')\n",
    "adopted_df = pd.read_csv(\"Data/adopted.txt\", sep='\\t')\n",
    "tpr_df = pd.read_csv(\"Data/tpr.txt\", sep='\\t')"
   ]
  },
  {
   "cell_type": "code",
   "execution_count": 3,
   "metadata": {},
   "outputs": [
    {
     "data": {
      "text/html": [
       "<div>\n",
       "<style scoped>\n",
       "    .dataframe tbody tr th:only-of-type {\n",
       "        vertical-align: middle;\n",
       "    }\n",
       "\n",
       "    .dataframe tbody tr th {\n",
       "        vertical-align: top;\n",
       "    }\n",
       "\n",
       "    .dataframe thead th {\n",
       "        text-align: right;\n",
       "    }\n",
       "</style>\n",
       "<table border=\"1\" class=\"dataframe\">\n",
       "  <thead>\n",
       "    <tr style=\"text-align: right;\">\n",
       "      <th></th>\n",
       "      <th>Status</th>\n",
       "      <th>State</th>\n",
       "      <th>FY 2010</th>\n",
       "      <th>FY 2011</th>\n",
       "      <th>FY 2012</th>\n",
       "      <th>FY 2013</th>\n",
       "      <th>FY 2014</th>\n",
       "      <th>FY 2015</th>\n",
       "      <th>FY 2016</th>\n",
       "      <th>FY 2017</th>\n",
       "      <th>FY 2018</th>\n",
       "      <th>FY 2019</th>\n",
       "    </tr>\n",
       "  </thead>\n",
       "  <tbody>\n",
       "    <tr>\n",
       "      <th>0</th>\n",
       "      <td>TPR</td>\n",
       "      <td>Alabama</td>\n",
       "      <td>757.0</td>\n",
       "      <td>701.0</td>\n",
       "      <td>543.0</td>\n",
       "      <td>615.0</td>\n",
       "      <td>573.0</td>\n",
       "      <td>461.0</td>\n",
       "      <td>421.0</td>\n",
       "      <td>533.0</td>\n",
       "      <td>514.0</td>\n",
       "      <td>523.0</td>\n",
       "    </tr>\n",
       "    <tr>\n",
       "      <th>1</th>\n",
       "      <td>TPR</td>\n",
       "      <td>Alaska</td>\n",
       "      <td>381.0</td>\n",
       "      <td>389.0</td>\n",
       "      <td>387.0</td>\n",
       "      <td>399.0</td>\n",
       "      <td>366.0</td>\n",
       "      <td>356.0</td>\n",
       "      <td>425.0</td>\n",
       "      <td>432.0</td>\n",
       "      <td>430.0</td>\n",
       "      <td>375.0</td>\n",
       "    </tr>\n",
       "    <tr>\n",
       "      <th>2</th>\n",
       "      <td>TPR</td>\n",
       "      <td>Arizona</td>\n",
       "      <td>2174.0</td>\n",
       "      <td>2220.0</td>\n",
       "      <td>2299.0</td>\n",
       "      <td>2692.0</td>\n",
       "      <td>2841.0</td>\n",
       "      <td>3006.0</td>\n",
       "      <td>3379.0</td>\n",
       "      <td>3295.0</td>\n",
       "      <td>2966.0</td>\n",
       "      <td>2687.0</td>\n",
       "    </tr>\n",
       "    <tr>\n",
       "      <th>3</th>\n",
       "      <td>TPR</td>\n",
       "      <td>Arkansas</td>\n",
       "      <td>812.0</td>\n",
       "      <td>742.0</td>\n",
       "      <td>543.0</td>\n",
       "      <td>642.0</td>\n",
       "      <td>757.0</td>\n",
       "      <td>757.0</td>\n",
       "      <td>795.0</td>\n",
       "      <td>795.0</td>\n",
       "      <td>809.0</td>\n",
       "      <td>787.0</td>\n",
       "    </tr>\n",
       "    <tr>\n",
       "      <th>4</th>\n",
       "      <td>TPR</td>\n",
       "      <td>California</td>\n",
       "      <td>7230.0</td>\n",
       "      <td>6928.0</td>\n",
       "      <td>6021.0</td>\n",
       "      <td>6562.0</td>\n",
       "      <td>6379.0</td>\n",
       "      <td>6617.0</td>\n",
       "      <td>6712.0</td>\n",
       "      <td>7107.0</td>\n",
       "      <td>7098.0</td>\n",
       "      <td>7262.0</td>\n",
       "    </tr>\n",
       "  </tbody>\n",
       "</table>\n",
       "</div>"
      ],
      "text/plain": [
       "  Status       State  FY 2010  FY 2011  FY 2012  FY 2013  FY 2014  FY 2015  \\\n",
       "0    TPR     Alabama    757.0    701.0    543.0    615.0    573.0    461.0   \n",
       "1    TPR      Alaska    381.0    389.0    387.0    399.0    366.0    356.0   \n",
       "2    TPR     Arizona   2174.0   2220.0   2299.0   2692.0   2841.0   3006.0   \n",
       "3    TPR    Arkansas    812.0    742.0    543.0    642.0    757.0    757.0   \n",
       "4    TPR  California   7230.0   6928.0   6021.0   6562.0   6379.0   6617.0   \n",
       "\n",
       "   FY 2016  FY 2017  FY 2018  FY 2019  \n",
       "0    421.0    533.0    514.0    523.0  \n",
       "1    425.0    432.0    430.0    375.0  \n",
       "2   3379.0   3295.0   2966.0   2687.0  \n",
       "3    795.0    795.0    809.0    787.0  \n",
       "4   6712.0   7107.0   7098.0   7262.0  "
      ]
     },
     "execution_count": 3,
     "metadata": {},
     "output_type": "execute_result"
    }
   ],
   "source": [
    "tpr_df.head()"
   ]
  },
  {
   "cell_type": "markdown",
   "metadata": {},
   "source": [
    "## Clean DataFrame"
   ]
  },
  {
   "cell_type": "code",
   "execution_count": 4,
   "metadata": {},
   "outputs": [],
   "source": [
    "# Keep only numerical data\n",
    "years_df = tpr_df.drop([\"Status\",\"State\"], axis=1)"
   ]
  },
  {
   "cell_type": "code",
   "execution_count": 5,
   "metadata": {},
   "outputs": [
    {
     "data": {
      "text/plain": [
       "Index(['FY 2010', 'FY 2011', 'FY 2012', 'FY 2013', 'FY 2014', 'FY 2015',\n",
       "       'FY 2016', 'FY 2017', 'FY 2018', 'FY 2019'],\n",
       "      dtype='object')"
      ]
     },
     "execution_count": 5,
     "metadata": {},
     "output_type": "execute_result"
    }
   ],
   "source": [
    "years_df.columns"
   ]
  },
  {
   "cell_type": "code",
   "execution_count": 6,
   "metadata": {},
   "outputs": [],
   "source": [
    "# Create list of years in dataset\n",
    "years_list = []\n",
    "\n",
    "for column in years_df.columns:\n",
    "    year = column.split(\" \")[1]\n",
    "    years_list.append(int(year))"
   ]
  },
  {
   "cell_type": "code",
   "execution_count": 7,
   "metadata": {},
   "outputs": [
    {
     "data": {
      "text/plain": [
       "(10, 1)"
      ]
     },
     "execution_count": 7,
     "metadata": {},
     "output_type": "execute_result"
    }
   ],
   "source": [
    "# Check shape \n",
    "years = np.array(years_list).reshape(-1,1)\n",
    "years.shape"
   ]
  },
  {
   "cell_type": "code",
   "execution_count": 8,
   "metadata": {},
   "outputs": [],
   "source": [
    "# Store \n",
    "states = tpr_df[\"State\"].values.tolist()"
   ]
  },
  {
   "cell_type": "markdown",
   "metadata": {},
   "source": [
    "## Machine Learning"
   ]
  },
  {
   "cell_type": "code",
   "execution_count": 9,
   "metadata": {},
   "outputs": [],
   "source": [
    "# Import dependencies\n",
    "from sklearn.linear_model import LinearRegression\n",
    "from sklearn.model_selection import train_test_split"
   ]
  },
  {
   "cell_type": "code",
   "execution_count": 10,
   "metadata": {},
   "outputs": [
    {
     "name": "stdout",
     "output_type": "stream",
     "text": [
      "Alabama Score: 0.6129694555381774\n",
      "Prediction for 2025 TPR: [315.06930693]\n",
      "----------------------------\n",
      "Alaska Score: 0.15150929347640352\n",
      "Prediction for 2025 TPR: [420.46039604]\n",
      "----------------------------\n",
      "Arizona Score: 0.7461892268487935\n",
      "Prediction for 2025 TPR: [3827.5990099]\n",
      "----------------------------\n",
      "Arkansas Score: -0.6113730779661997\n",
      "Prediction for 2025 TPR: [867.62871287]\n",
      "----------------------------\n",
      "California Score: -0.5537584769587711\n",
      "Prediction for 2025 TPR: [7352.45544554]\n",
      "----------------------------\n",
      "Colorado Score: -0.5715509295446393\n",
      "Prediction for 2025 TPR: [372.86633663]\n",
      "----------------------------\n",
      "Connecticut Score: 0.5021111550063055\n",
      "Prediction for 2025 TPR: [53.95544554]\n",
      "----------------------------\n",
      "Delaware Score: 0.43015637353096425\n",
      "Prediction for 2025 TPR: [72.34653465]\n",
      "----------------------------\n",
      "District of Columbia Score: 0.5225395145666167\n",
      "Prediction for 2025 TPR: [-30.99009901]\n",
      "----------------------------\n",
      "Florida Score: 0.8909756601533417\n",
      "Prediction for 2025 TPR: [7587.9009901]\n",
      "----------------------------\n",
      "Georgia Score: 0.8422119429471366\n",
      "Prediction for 2025 TPR: [2731.82178218]\n",
      "----------------------------\n",
      "Hawaii Score: -0.021092157658091804\n",
      "Prediction for 2025 TPR: [198.40594059]\n",
      "----------------------------\n",
      "Idaho Score: 0.2171269945819707\n",
      "Prediction for 2025 TPR: [347.45544554]\n",
      "----------------------------\n",
      "Illinois Score: -0.2359182190647666\n",
      "Prediction for 2025 TPR: [2413.54455446]\n",
      "----------------------------\n",
      "Indiana Score: -0.7527733002074881\n",
      "Prediction for 2025 TPR: [1182.36138614]\n",
      "----------------------------\n",
      "Iowa Score: -0.270725902312563\n",
      "Prediction for 2025 TPR: [1070.52970297]\n",
      "----------------------------\n",
      "Kansas Score: 0.6502502600831408\n",
      "Prediction for 2025 TPR: [2034.4009901]\n",
      "----------------------------\n",
      "Kentucky Score: 0.8726322196764964\n",
      "Prediction for 2025 TPR: [2316.45049505]\n",
      "----------------------------\n",
      "Louisiana Score: 0.015886273212833757\n",
      "Prediction for 2025 TPR: [573.9950495]\n",
      "----------------------------\n",
      "Maine Score: 0.0025037657703451677\n",
      "Prediction for 2025 TPR: [475.28712871]\n",
      "----------------------------\n",
      "Maryland Score: 0.4588810281580426\n",
      "Prediction for 2025 TPR: [90.39108911]\n",
      "----------------------------\n",
      "Massachusetts Score: -0.15107370591920044\n",
      "Prediction for 2025 TPR: [1628.87128713]\n",
      "----------------------------\n",
      "Michigan Score: -0.09569576101623034\n",
      "Prediction for 2025 TPR: [2642.8960396]\n",
      "----------------------------\n",
      "Minnesota Score: 0.8917107039689147\n",
      "Prediction for 2025 TPR: [2503.92079208]\n",
      "----------------------------\n",
      "Mississippi Score: -0.05426660841005049\n",
      "Prediction for 2025 TPR: [357.30693069]\n",
      "----------------------------\n",
      "Missouri Score: 0.18407184811920996\n",
      "Prediction for 2025 TPR: [737.16831683]\n",
      "----------------------------\n",
      "Montana Score: 0.7746925670866729\n",
      "Prediction for 2025 TPR: [851.91089109]\n",
      "----------------------------\n",
      "Nebraska Score: -1.3034355101084731\n",
      "Prediction for 2025 TPR: [426.70792079]\n",
      "----------------------------\n",
      "Nevada Score: 0.4759087835056587\n",
      "Prediction for 2025 TPR: [602.53960396]\n",
      "----------------------------\n",
      "New Hampshire Score: 0.5099019046593367\n",
      "Prediction for 2025 TPR: [173.9950495]\n",
      "----------------------------\n",
      "New Jersey Score: 0.06697056666390877\n",
      "Prediction for 2025 TPR: [889.38613861]\n",
      "----------------------------\n",
      "New Mexico Score: 0.3057818621753894\n",
      "Prediction for 2025 TPR: [873.75742574]\n",
      "----------------------------\n",
      "New York Score: 0.9400050497570825\n",
      "Prediction for 2025 TPR: [844.33168317]\n",
      "----------------------------\n",
      "North Carolina Score: 0.7289664328521961\n",
      "Prediction for 2025 TPR: [1464.10891089]\n",
      "----------------------------\n",
      "North Dakota Score: 0.8662907564011681\n",
      "Prediction for 2025 TPR: [476.1980198]\n",
      "----------------------------\n",
      "Ohio Score: 0.8669991643767506\n",
      "Prediction for 2025 TPR: [3581.88118812]\n",
      "----------------------------\n",
      "Oklahoma Score: -0.06823846999262018\n",
      "Prediction for 2025 TPR: [2290.5]\n",
      "----------------------------\n",
      "Oregon Score: -0.012774196747975308\n",
      "Prediction for 2025 TPR: [1314.87623762]\n",
      "----------------------------\n",
      "Pennsylvania Score: 0.6201459209169582\n",
      "Prediction for 2025 TPR: [2382.98514851]\n",
      "----------------------------\n",
      "Rhode Island Score: 0.9533330241449834\n",
      "Prediction for 2025 TPR: [54.50990099]\n",
      "----------------------------\n",
      "South Carolina Score: 0.09095943625391723\n",
      "Prediction for 2025 TPR: [529.40594059]\n",
      "----------------------------\n",
      "South Dakota Score: 0.0237732071463429\n",
      "Prediction for 2025 TPR: [331.02970297]\n",
      "----------------------------\n",
      "Tennessee Score: 0.6306742399788645\n",
      "Prediction for 2025 TPR: [1387.35148515]\n",
      "----------------------------\n",
      "Texas Score: -5.702114529681021\n",
      "Prediction for 2025 TPR: [8200.72277228]\n",
      "----------------------------\n",
      "Utah Score: 0.11367402428345463\n",
      "Prediction for 2025 TPR: [397.25742574]\n",
      "----------------------------\n",
      "Vermont Score: 0.8724216911818587\n",
      "Prediction for 2025 TPR: [337.57425743]\n",
      "----------------------------\n",
      "Virginia Score: -3.214399956967136\n",
      "Prediction for 2025 TPR: [1351.05445545]\n",
      "----------------------------\n",
      "Washington Score: 0.41651894023624286\n",
      "Prediction for 2025 TPR: [1843.5]\n",
      "----------------------------\n",
      "West Virginia Score: 0.3852450562004802\n",
      "Prediction for 2025 TPR: [2523.88118812]\n",
      "----------------------------\n",
      "Wisconsin Score: -25.46083090108314\n",
      "Prediction for 2025 TPR: [865.64851485]\n",
      "----------------------------\n",
      "Wyoming Score: -0.09685477231875428\n",
      "Prediction for 2025 TPR: [-8.86633663]\n",
      "----------------------------\n"
     ]
    }
   ],
   "source": [
    "# Train and score model, then demonstrate predictive ability for all states\n",
    "\n",
    "midwest = ['Illinois', 'Indiana', 'Iowa', 'Kansas', 'Michigan', 'Minnesota', \n",
    "           'Missouri', 'Nebraska', 'North Dakota', 'Ohio', 'South Dakota', 'Wisconsin']\n",
    "plot_indexes = []\n",
    "\n",
    "for index,row in years_df.iterrows():\n",
    "    values = row.values.tolist()\n",
    "    X = years\n",
    "    y = values\n",
    "    \n",
    "    model = LinearRegression()\n",
    "\n",
    "    X_train, X_test, y_train, y_test = train_test_split(X, y, random_state=42)\n",
    "    model.fit(X_train, y_train)\n",
    "    score = model.score(X_test, y_test)\n",
    "    state = states[index]\n",
    "    predicted = model.predict([[2025]])\n",
    "    \n",
    "    print(f\"{state} Score: {score}\")\n",
    "    print(f\"Prediction for 2025 TPR: {predicted}\")\n",
    "    print(\"----------------------------\")\n",
    "    \n",
    "    if (state in midwest) and score > .8:\n",
    "        plot_indexes.append(index)"
   ]
  },
  {
   "cell_type": "code",
   "execution_count": 11,
   "metadata": {},
   "outputs": [],
   "source": [
    "# Create DataFrame for plotting predictions of Midwestern states with model scores greater than 80%\n",
    "plots_df = years_df.iloc[plot_indexes,:]"
   ]
  },
  {
   "cell_type": "code",
   "execution_count": 12,
   "metadata": {},
   "outputs": [],
   "source": [
    "plots_df_final = plots_df.copy()"
   ]
  },
  {
   "cell_type": "code",
   "execution_count": 13,
   "metadata": {},
   "outputs": [],
   "source": [
    "# Use model to \n",
    "\n",
    "predicted_years = [2020,2022,2024,2026,2028,2030]\n",
    "\n",
    "for year in predicted_years:\n",
    "    predictions = []\n",
    "    for index,row in plots_df.iterrows():\n",
    "        values = row.values.tolist()\n",
    "        X = years\n",
    "        y = values\n",
    "        \n",
    "        model = LinearRegression()\n",
    "        X_train, X_test, y_train, y_test = train_test_split(X, y, random_state=42)\n",
    "        model.fit(X_train, y_train)\n",
    "        \n",
    "        prediction = model.predict([[year]])\n",
    "        predictions.append(prediction[0])\n",
    "\n",
    "    plots_df_final[f\"FY {year}\"] = predictions"
   ]
  },
  {
   "cell_type": "code",
   "execution_count": 14,
   "metadata": {},
   "outputs": [
    {
     "data": {
      "text/html": [
       "<div>\n",
       "<style scoped>\n",
       "    .dataframe tbody tr th:only-of-type {\n",
       "        vertical-align: middle;\n",
       "    }\n",
       "\n",
       "    .dataframe tbody tr th {\n",
       "        vertical-align: top;\n",
       "    }\n",
       "\n",
       "    .dataframe thead th {\n",
       "        text-align: right;\n",
       "    }\n",
       "</style>\n",
       "<table border=\"1\" class=\"dataframe\">\n",
       "  <thead>\n",
       "    <tr style=\"text-align: right;\">\n",
       "      <th></th>\n",
       "      <th>FY 2010</th>\n",
       "      <th>FY 2011</th>\n",
       "      <th>FY 2012</th>\n",
       "      <th>FY 2013</th>\n",
       "      <th>FY 2014</th>\n",
       "      <th>FY 2015</th>\n",
       "      <th>FY 2016</th>\n",
       "      <th>FY 2017</th>\n",
       "      <th>FY 2018</th>\n",
       "      <th>FY 2019</th>\n",
       "      <th>FY 2020</th>\n",
       "      <th>FY 2022</th>\n",
       "      <th>FY 2024</th>\n",
       "      <th>FY 2026</th>\n",
       "      <th>FY 2028</th>\n",
       "      <th>FY 2030</th>\n",
       "    </tr>\n",
       "  </thead>\n",
       "  <tbody>\n",
       "    <tr>\n",
       "      <th>23</th>\n",
       "      <td>1003.0</td>\n",
       "      <td>961.0</td>\n",
       "      <td>1008.0</td>\n",
       "      <td>1110.0</td>\n",
       "      <td>1126.0</td>\n",
       "      <td>1225.0</td>\n",
       "      <td>1457.0</td>\n",
       "      <td>1848.0</td>\n",
       "      <td>1852.0</td>\n",
       "      <td>1812.0</td>\n",
       "      <td>1952.336634</td>\n",
       "      <td>2172.970297</td>\n",
       "      <td>2393.603960</td>\n",
       "      <td>2614.237624</td>\n",
       "      <td>2834.871287</td>\n",
       "      <td>3055.504950</td>\n",
       "    </tr>\n",
       "    <tr>\n",
       "      <th>34</th>\n",
       "      <td>131.0</td>\n",
       "      <td>116.0</td>\n",
       "      <td>116.0</td>\n",
       "      <td>135.0</td>\n",
       "      <td>153.0</td>\n",
       "      <td>172.0</td>\n",
       "      <td>242.0</td>\n",
       "      <td>284.0</td>\n",
       "      <td>332.0</td>\n",
       "      <td>333.0</td>\n",
       "      <td>345.158416</td>\n",
       "      <td>397.574257</td>\n",
       "      <td>449.990099</td>\n",
       "      <td>502.405941</td>\n",
       "      <td>554.821782</td>\n",
       "      <td>607.237624</td>\n",
       "    </tr>\n",
       "    <tr>\n",
       "      <th>35</th>\n",
       "      <td>2687.0</td>\n",
       "      <td>2484.0</td>\n",
       "      <td>2277.0</td>\n",
       "      <td>2591.0</td>\n",
       "      <td>2644.0</td>\n",
       "      <td>2643.0</td>\n",
       "      <td>2730.0</td>\n",
       "      <td>2936.0</td>\n",
       "      <td>3117.0</td>\n",
       "      <td>3290.0</td>\n",
       "      <td>3182.004950</td>\n",
       "      <td>3341.955446</td>\n",
       "      <td>3501.905941</td>\n",
       "      <td>3661.856436</td>\n",
       "      <td>3821.806931</td>\n",
       "      <td>3981.757426</td>\n",
       "    </tr>\n",
       "  </tbody>\n",
       "</table>\n",
       "</div>"
      ],
      "text/plain": [
       "    FY 2010  FY 2011  FY 2012  FY 2013  FY 2014  FY 2015  FY 2016  FY 2017  \\\n",
       "23   1003.0    961.0   1008.0   1110.0   1126.0   1225.0   1457.0   1848.0   \n",
       "34    131.0    116.0    116.0    135.0    153.0    172.0    242.0    284.0   \n",
       "35   2687.0   2484.0   2277.0   2591.0   2644.0   2643.0   2730.0   2936.0   \n",
       "\n",
       "    FY 2018  FY 2019      FY 2020      FY 2022      FY 2024      FY 2026  \\\n",
       "23   1852.0   1812.0  1952.336634  2172.970297  2393.603960  2614.237624   \n",
       "34    332.0    333.0   345.158416   397.574257   449.990099   502.405941   \n",
       "35   3117.0   3290.0  3182.004950  3341.955446  3501.905941  3661.856436   \n",
       "\n",
       "        FY 2028      FY 2030  \n",
       "23  2834.871287  3055.504950  \n",
       "34   554.821782   607.237624  \n",
       "35  3821.806931  3981.757426  "
      ]
     },
     "execution_count": 14,
     "metadata": {},
     "output_type": "execute_result"
    }
   ],
   "source": [
    "plots_df_final"
   ]
  },
  {
   "cell_type": "markdown",
   "metadata": {},
   "source": [
    "## Prediction"
   ]
  },
  {
   "cell_type": "code",
   "execution_count": 15,
   "metadata": {},
   "outputs": [
    {
     "data": {
      "image/png": "[encoded data removed]",
      "text/plain": [
       "<Figure size 432x288 with 1 Axes>"
      ]
     },
     "metadata": {
      "needs_background": "light"
     },
     "output_type": "display_data"
    },
    {
     "data": {
      "image/png": "[encoded data removed]",
      "text/plain": [
       "<Figure size 432x288 with 1 Axes>"
      ]
     },
     "metadata": {
      "needs_background": "light"
     },
     "output_type": "display_data"
    },
    {
     "data": {
      "image/png": "[encoded data removed]",
      "text/plain": [
       "<Figure size 432x288 with 1 Axes>"
      ]
     },
     "metadata": {
      "needs_background": "light"
     },
     "output_type": "display_data"
    }
   ],
   "source": [
    "for index,row in plots_df_final.iterrows():\n",
    "    values = row.values.tolist()\n",
    "    X = years_list + predicted_years\n",
    "    y = values\n",
    "\n",
    "    plt.plot(X, y)\n",
    "    plt.xlabel(\"Year\")\n",
    "    plt.ylabel(f\"TPR\")\n",
    "    plt.title(f\"Foster Care Trends - {states[index]}\")\n",
    "    \n",
    "    plt.savefig(f\"Images/{states[index]}_TPR.png\")\n",
    "    plt.show()"
   ]
  },
  {
   "cell_type": "code",
   "execution_count": null,
   "metadata": {},
   "outputs": [],
   "source": []
  }
 ],
 "metadata": {
  "kernelspec": {
   "display_name": "Python 3",
   "language": "python",
   "name": "python3"
  },
  "language_info": {
   "codemirror_mode": {
    "name": "ipython",
    "version": 3
   },
   "file_extension": ".py",
   "mimetype": "text/x-python",
   "name": "python",
   "nbconvert_exporter": "python",
   "pygments_lexer": "ipython3",
   "version": "3.7.6"
  }
 },
 "nbformat": 4,
 "nbformat_minor": 4
}
